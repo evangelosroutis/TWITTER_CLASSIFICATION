{
 "cells": [
  {
   "cell_type": "code",
   "execution_count": 1,
   "metadata": {},
   "outputs": [],
   "source": [
    "import pandas as pd"
   ]
  },
  {
   "cell_type": "code",
   "execution_count": 2,
   "metadata": {},
   "outputs": [],
   "source": [
    "import torch\n",
    "use_cuda = torch.cuda.is_available()"
   ]
  },
  {
   "cell_type": "code",
   "execution_count": 5,
   "metadata": {},
   "outputs": [
    {
     "data": {
      "text/plain": [
       "device(type='mps')"
      ]
     },
     "execution_count": 5,
     "metadata": {},
     "output_type": "execute_result"
    }
   ],
   "source": [
    "torch.device('mps')"
   ]
  },
  {
   "cell_type": "code",
   "execution_count": 6,
   "metadata": {},
   "outputs": [
    {
     "name": "stdout",
     "output_type": "stream",
     "text": [
      "True\n"
     ]
    }
   ],
   "source": [
    "print(torch.backends.mps.is_available())"
   ]
  },
  {
   "cell_type": "code",
   "execution_count": null,
   "metadata": {},
   "outputs": [],
   "source": [
    "def subset(a):\n",
    "    if sum(a)%2==1:\n",
    "        return False\n",
    "    target=sum(a)//2\n",
    "    if "
   ]
  },
  {
   "cell_type": "code",
   "execution_count": 18,
   "metadata": {},
   "outputs": [],
   "source": [
    "class Solution:\n",
    "    def minSubArrayLen(self, target: int, nums: list[int]) -> int:\n",
    "        i=j=s=0\n",
    "        n=len(nums)\n",
    "        min_length=n\n",
    "\n",
    "        while j<n:\n",
    "            if s<target:\n",
    "                s+=nums[j]\n",
    "                j+=1\n",
    "                \n",
    "            else:\n",
    "                min_length=min(j-i,min_length)\n",
    "                i+=1\n",
    "                s-=nums[i-1]\n",
    "\n",
    "            print('loop1',i,j,'s=',s,'min_len=',min_length)\n",
    "        \n",
    "        while s>=target:\n",
    "            i+=1\n",
    "            s-=nums[i-1]\n",
    "            print('loop2',i,j)\n",
    "        \n",
    "        m=min(n-i+1,min_length) \n",
    "\n",
    "        return m if m<n else 0"
   ]
  },
  {
   "cell_type": "code",
   "execution_count": 19,
   "metadata": {},
   "outputs": [
    {
     "name": "stdout",
     "output_type": "stream",
     "text": [
      "loop1 0 1 s= 2 min_len= 6\n",
      "loop1 0 2 s= 5 min_len= 6\n",
      "loop1 0 3 s= 6 min_len= 6\n",
      "loop1 0 4 s= 8 min_len= 6\n",
      "loop1 1 4 s= 6 min_len= 4\n",
      "loop1 1 5 s= 10 min_len= 4\n",
      "loop1 2 5 s= 7 min_len= 4\n",
      "loop1 3 5 s= 6 min_len= 3\n",
      "loop1 3 6 s= 9 min_len= 3\n",
      "loop2 4 6\n",
      "loop2 5 6\n"
     ]
    },
    {
     "data": {
      "text/plain": [
       "2"
      ]
     },
     "execution_count": 19,
     "metadata": {},
     "output_type": "execute_result"
    }
   ],
   "source": [
    "target=7\n",
    "nums=[2,3,1,2,4,3]\n",
    "Solution().minSubArrayLen(target,nums)"
   ]
  },
  {
   "cell_type": "code",
   "execution_count": 20,
   "metadata": {},
   "outputs": [
    {
     "data": {
      "text/plain": [
       "tensor([1, 2, 3])"
      ]
     },
     "execution_count": 20,
     "metadata": {},
     "output_type": "execute_result"
    }
   ],
   "source": [
    "torch.tensor([1,2,3])"
   ]
  },
  {
   "cell_type": "code",
   "execution_count": 34,
   "metadata": {},
   "outputs": [],
   "source": [
    "import numpy as np"
   ]
  },
  {
   "cell_type": "code",
   "execution_count": 40,
   "metadata": {},
   "outputs": [
    {
     "data": {
      "text/plain": [
       "(1, 3)"
      ]
     },
     "execution_count": 40,
     "metadata": {},
     "output_type": "execute_result"
    }
   ],
   "source": [
    "np.array([[1,2,3]]).shape"
   ]
  },
  {
   "cell_type": "code",
   "execution_count": 44,
   "metadata": {},
   "outputs": [
    {
     "data": {
      "text/plain": [
       "tensor([[14]])"
      ]
     },
     "execution_count": 44,
     "metadata": {},
     "output_type": "execute_result"
    }
   ],
   "source": [
    "torch.tensor([[1,2,3]])@torch.tensor([[1,2,3]]).T\n"
   ]
  },
  {
   "cell_type": "code",
   "execution_count": 45,
   "metadata": {},
   "outputs": [],
   "source": [
    "from torch import nn"
   ]
  },
  {
   "cell_type": "code",
   "execution_count": 50,
   "metadata": {},
   "outputs": [
    {
     "data": {
      "text/plain": [
       "tensor([[1, 2, 3],\n",
       "        [4, 5, 6]])"
      ]
     },
     "execution_count": 50,
     "metadata": {},
     "output_type": "execute_result"
    }
   ],
   "source": [
    "flatten=nn.Flatten()\n",
    "flatten(torch.tensor([[1,2,3],[4,5,6]]))"
   ]
  },
  {
   "cell_type": "code",
   "execution_count": 73,
   "metadata": {},
   "outputs": [],
   "source": [
    "x=torch.arange(10).reshape(5,2)"
   ]
  },
  {
   "cell_type": "code",
   "execution_count": 57,
   "metadata": {},
   "outputs": [],
   "source": [
    "y=np.array([1,2,4])"
   ]
  },
  {
   "cell_type": "code",
   "execution_count": 78,
   "metadata": {},
   "outputs": [
    {
     "data": {
      "text/plain": [
       "tensor([[0, 2, 4, 6, 8],\n",
       "        [1, 3, 5, 7, 9],\n",
       "        [0, 2, 4, 6, 8],\n",
       "        [1, 3, 5, 7, 9],\n",
       "        [0, 2, 4, 6, 8],\n",
       "        [1, 3, 5, 7, 9]])"
      ]
     },
     "execution_count": 78,
     "metadata": {},
     "output_type": "execute_result"
    }
   ],
   "source": [
    "torch.concatenate([x for _ in range(3)],axis=1).T"
   ]
  },
  {
   "cell_type": "code",
   "execution_count": 86,
   "metadata": {},
   "outputs": [
    {
     "data": {
      "text/plain": [
       "tensor([[1., 2., 3.]])"
      ]
     },
     "execution_count": 86,
     "metadata": {},
     "output_type": "execute_result"
    }
   ],
   "source": [
    "torch.tensor([[1.0,2.0,3.0]])"
   ]
  },
  {
   "cell_type": "code",
   "execution_count": 84,
   "metadata": {},
   "outputs": [
    {
     "name": "stderr",
     "output_type": "stream",
     "text": [
      "/opt/anaconda3/envs/myenv/lib/python3.11/site-packages/torch/nn/modules/module.py:1511: UserWarning: Implicit dimension choice for softmax has been deprecated. Change the call to include dim=X as an argument.\n",
      "  return self._call_impl(*args, **kwargs)\n"
     ]
    },
    {
     "data": {
      "text/plain": [
       "tensor([[0.0900, 0.2447, 0.6652]])"
      ]
     },
     "execution_count": 84,
     "metadata": {},
     "output_type": "execute_result"
    }
   ],
   "source": [
    "nn.Softmax()(torch.tensor([[1.0,2.0,3.0]]))"
   ]
  },
  {
   "cell_type": "code",
   "execution_count": 93,
   "metadata": {},
   "outputs": [
    {
     "data": {
      "text/plain": [
       "tensor([[0, 1, 2, 3, 4, 5]])"
      ]
     },
     "execution_count": 93,
     "metadata": {},
     "output_type": "execute_result"
    }
   ],
   "source": [
    "m=torch.arange(6).reshape(1,2,3)\n",
    "nn.Flatten()(m)"
   ]
  },
  {
   "cell_type": "code",
   "execution_count": 94,
   "metadata": {},
   "outputs": [
    {
     "data": {
      "text/plain": [
       "tensor([[[0, 1, 2],\n",
       "         [3, 4, 5]]])"
      ]
     },
     "execution_count": 94,
     "metadata": {},
     "output_type": "execute_result"
    }
   ],
   "source": [
    "m"
   ]
  },
  {
   "cell_type": "code",
   "execution_count": 95,
   "metadata": {},
   "outputs": [],
   "source": [
    "linear=nn.Linear(10,1)"
   ]
  },
  {
   "cell_type": "code",
   "execution_count": 109,
   "metadata": {},
   "outputs": [
    {
     "data": {
      "text/plain": [
       "tensor([-1.0715], grad_fn=<ViewBackward0>)"
      ]
     },
     "execution_count": 109,
     "metadata": {},
     "output_type": "execute_result"
    }
   ],
   "source": [
    "a=torch.arange(10).to(torch.float32)\n",
    "linear(a)"
   ]
  },
  {
   "cell_type": "code",
   "execution_count": 110,
   "metadata": {},
   "outputs": [
    {
     "data": {
      "text/plain": [
       "0"
      ]
     },
     "execution_count": 110,
     "metadata": {},
     "output_type": "execute_result"
    }
   ],
   "source": [
    "torch.cuda.device_count()"
   ]
  },
  {
   "cell_type": "code",
   "execution_count": 111,
   "metadata": {},
   "outputs": [],
   "source": [
    "from torch.utils.data import Dataset"
   ]
  },
  {
   "cell_type": "code",
   "execution_count": 114,
   "metadata": {},
   "outputs": [],
   "source": [
    "from transformers import BertTokenizer\n"
   ]
  },
  {
   "cell_type": "code",
   "execution_count": 122,
   "metadata": {},
   "outputs": [
    {
     "name": "stderr",
     "output_type": "stream",
     "text": [
      "/opt/anaconda3/envs/myenv/lib/python3.11/site-packages/huggingface_hub/file_download.py:1132: FutureWarning: `resume_download` is deprecated and will be removed in version 1.0.0. Downloads always resume when possible. If you want to force a new download, use `force_download=True`.\n",
      "  warnings.warn(\n"
     ]
    }
   ],
   "source": [
    "tokenizer=BertTokenizer.from_pretrained('bert-base-uncased')"
   ]
  },
  {
   "cell_type": "code",
   "execution_count": 117,
   "metadata": {},
   "outputs": [
    {
     "data": {
      "text/plain": [
       "['wow',\n",
       " '!',\n",
       " 'this',\n",
       " 'is',\n",
       " 'a',\n",
       " 'gr',\n",
       " '##ea',\n",
       " '##aa',\n",
       " '##aa',\n",
       " '##at',\n",
       " 'po',\n",
       " '##oo',\n",
       " '##oo',\n",
       " '##st',\n",
       " ':',\n",
       " ')']"
      ]
     },
     "execution_count": 117,
     "metadata": {},
     "output_type": "execute_result"
    }
   ],
   "source": [
    "tokenizer.tokenize('Wow! This is a greaaaaaat pooooost :)')\n"
   ]
  },
  {
   "cell_type": "code",
   "execution_count": 123,
   "metadata": {},
   "outputs": [
    {
     "data": {
      "text/plain": [
       "(['[UNK]', 'hello', 'how', 'are', 'you'], 30522)"
      ]
     },
     "execution_count": 123,
     "metadata": {},
     "output_type": "execute_result"
    }
   ],
   "source": [
    "tokenizer.tokenize(\" 😃 hello how are you\"),len(tokenizer)"
   ]
  },
  {
   "cell_type": "code",
   "execution_count": 124,
   "metadata": {},
   "outputs": [
    {
     "data": {
      "text/plain": [
       "1"
      ]
     },
     "execution_count": 124,
     "metadata": {},
     "output_type": "execute_result"
    }
   ],
   "source": [
    "tokenizer.add_tokens('😃')"
   ]
  },
  {
   "cell_type": "code",
   "execution_count": 125,
   "metadata": {},
   "outputs": [
    {
     "data": {
      "text/plain": [
       "['😃', 'hello', 'how', 'are', 'you']"
      ]
     },
     "execution_count": 125,
     "metadata": {},
     "output_type": "execute_result"
    }
   ],
   "source": [
    "tokenizer.tokenize(\" 😃 hello how are you\")"
   ]
  },
  {
   "cell_type": "code",
   "execution_count": 126,
   "metadata": {},
   "outputs": [
    {
     "data": {
      "text/plain": [
       "30523"
      ]
     },
     "execution_count": 126,
     "metadata": {},
     "output_type": "execute_result"
    }
   ],
   "source": [
    "len(tokenizer)"
   ]
  },
  {
   "cell_type": "code",
   "execution_count": 145,
   "metadata": {},
   "outputs": [
    {
     "name": "stderr",
     "output_type": "stream",
     "text": [
      "/opt/anaconda3/envs/myenv/lib/python3.11/site-packages/huggingface_hub/file_download.py:1132: FutureWarning: `resume_download` is deprecated and will be removed in version 1.0.0. Downloads always resume when possible. If you want to force a new download, use `force_download=True`.\n",
      "  warnings.warn(\n"
     ]
    }
   ],
   "source": [
    "from transformers import AutoModel, AutoTokenizer\n",
    "tokenizer = AutoTokenizer.from_pretrained(\"vinai/bertweet-base\", use_fast=False)\n"
   ]
  },
  {
   "cell_type": "code",
   "execution_count": 146,
   "metadata": {},
   "outputs": [
    {
     "data": {
      "text/plain": [
       "64001"
      ]
     },
     "execution_count": 146,
     "metadata": {},
     "output_type": "execute_result"
    }
   ],
   "source": [
    "len(tokenizer)"
   ]
  },
  {
   "cell_type": "code",
   "execution_count": 141,
   "metadata": {},
   "outputs": [
    {
     "data": {
      "text/plain": [
       "['🤞', 'hello', 'how', 'are', 'you', '🧔@@', '\\u200d@@', '♀@@', '️']"
      ]
     },
     "execution_count": 141,
     "metadata": {},
     "output_type": "execute_result"
    }
   ],
   "source": [
    "tokenizer.tokenize(\" 🤞 hello how are you 🧔‍♀️\")"
   ]
  },
  {
   "cell_type": "code",
   "execution_count": 147,
   "metadata": {},
   "outputs": [
    {
     "name": "stderr",
     "output_type": "stream",
     "text": [
      "/opt/anaconda3/envs/myenv/lib/python3.11/site-packages/huggingface_hub/file_download.py:1132: FutureWarning: `resume_download` is deprecated and will be removed in version 1.0.0. Downloads always resume when possible. If you want to force a new download, use `force_download=True`.\n",
      "  warnings.warn(\n"
     ]
    }
   ],
   "source": [
    "tokenizer = AutoTokenizer.from_pretrained(\"google/canine-c\", use_fast=False)\n"
   ]
  },
  {
   "cell_type": "code",
   "execution_count": 148,
   "metadata": {},
   "outputs": [
    {
     "data": {
      "text/plain": [
       "[' ',\n",
       " '🤞',\n",
       " ' ',\n",
       " 'h',\n",
       " 'e',\n",
       " 'l',\n",
       " 'l',\n",
       " 'o',\n",
       " ' ',\n",
       " 'h',\n",
       " 'o',\n",
       " 'w',\n",
       " ' ',\n",
       " 'a',\n",
       " 'r',\n",
       " 'e',\n",
       " ' ',\n",
       " 'y',\n",
       " 'o',\n",
       " 'u',\n",
       " ' ',\n",
       " '🧔',\n",
       " '\\u200d',\n",
       " '♀',\n",
       " '️']"
      ]
     },
     "execution_count": 148,
     "metadata": {},
     "output_type": "execute_result"
    }
   ],
   "source": [
    "tokenizer.tokenize(\" 🤞 hello how are you 🧔‍♀️\")"
   ]
  },
  {
   "cell_type": "code",
   "execution_count": 149,
   "metadata": {},
   "outputs": [
    {
     "data": {
      "text/plain": [
       "1114112"
      ]
     },
     "execution_count": 149,
     "metadata": {},
     "output_type": "execute_result"
    }
   ],
   "source": [
    "len(tokenizer)"
   ]
  },
  {
   "cell_type": "code",
   "execution_count": 156,
   "metadata": {},
   "outputs": [
    {
     "data": {
      "text/plain": [
       "('\\ue000', '\\ue001', '\\x00', '\\ue001', None)"
      ]
     },
     "execution_count": 156,
     "metadata": {},
     "output_type": "execute_result"
    }
   ],
   "source": [
    "tokenizer.bos_token,tokenizer.eos_token,tokenizer.pad_token,tokenizer.sep_token,tokenizer.unk_token"
   ]
  },
  {
   "cell_type": "code",
   "execution_count": 159,
   "metadata": {},
   "outputs": [
    {
     "data": {
      "text/plain": [
       "57345"
      ]
     },
     "execution_count": 159,
     "metadata": {},
     "output_type": "execute_result"
    }
   ],
   "source": [
    "tokenizer.eos_token_id"
   ]
  },
  {
   "cell_type": "code",
   "execution_count": 160,
   "metadata": {},
   "outputs": [
    {
     "data": {
      "text/plain": [
       "2048"
      ]
     },
     "execution_count": 160,
     "metadata": {},
     "output_type": "execute_result"
    }
   ],
   "source": [
    "tokenizer.model_max_length"
   ]
  },
  {
   "cell_type": "code",
   "execution_count": 163,
   "metadata": {},
   "outputs": [
    {
     "data": {
      "text/plain": [
       "['😎',\n",
       " ' ',\n",
       " 'R',\n",
       " 'T',\n",
       " ' ',\n",
       " '@',\n",
       " 'V',\n",
       " 'i',\n",
       " 'r',\n",
       " 'g',\n",
       " 'i',\n",
       " 'n',\n",
       " 'A',\n",
       " 'm',\n",
       " 'e',\n",
       " 'r',\n",
       " 'i',\n",
       " 'c',\n",
       " 'a',\n",
       " ':',\n",
       " ' ',\n",
       " 'Y',\n",
       " 'o',\n",
       " 'u',\n",
       " '’',\n",
       " 'v',\n",
       " 'e',\n",
       " ' ',\n",
       " 'm',\n",
       " 'e',\n",
       " 't',\n",
       " ' ',\n",
       " 'y',\n",
       " 'o',\n",
       " 'u',\n",
       " 'r',\n",
       " ' ',\n",
       " 'm',\n",
       " 'a',\n",
       " 't',\n",
       " 'c',\n",
       " 'h',\n",
       " '.',\n",
       " ' ',\n",
       " 'G',\n",
       " 'o',\n",
       " 't',\n",
       " ' ',\n",
       " 's',\n",
       " 't',\n",
       " 'a',\n",
       " 't',\n",
       " 'u',\n",
       " 's',\n",
       " ' ',\n",
       " 'o',\n",
       " 'n',\n",
       " ' ',\n",
       " 'a',\n",
       " 'n',\n",
       " 'o',\n",
       " 't',\n",
       " 'h',\n",
       " 'e',\n",
       " 'r',\n",
       " ' ',\n",
       " 'a',\n",
       " 'i',\n",
       " 'r',\n",
       " 'l',\n",
       " 'i',\n",
       " 'n',\n",
       " 'e',\n",
       " '?',\n",
       " ' ',\n",
       " 'U',\n",
       " 'p',\n",
       " 'g',\n",
       " 'r',\n",
       " 'a',\n",
       " 'd',\n",
       " 'e',\n",
       " ' ',\n",
       " '(',\n",
       " '+',\n",
       " 'r',\n",
       " 'e',\n",
       " 's',\n",
       " 't',\n",
       " 'r',\n",
       " ')',\n",
       " ':',\n",
       " ' ',\n",
       " 'h',\n",
       " 't',\n",
       " 't',\n",
       " 'p',\n",
       " ':',\n",
       " '/',\n",
       " '/',\n",
       " 't',\n",
       " '.',\n",
       " 'c',\n",
       " 'o',\n",
       " '/',\n",
       " 'R',\n",
       " 'H',\n",
       " 'K',\n",
       " 'a',\n",
       " 'M',\n",
       " 'x',\n",
       " '9',\n",
       " 'V',\n",
       " 'F',\n",
       " '5',\n",
       " '.',\n",
       " ' ',\n",
       " 'h',\n",
       " 't',\n",
       " 't',\n",
       " 'p',\n",
       " ':',\n",
       " '/',\n",
       " '/',\n",
       " 't',\n",
       " '.',\n",
       " 'c',\n",
       " 'o',\n",
       " '/',\n",
       " 'P',\n",
       " 'Y',\n",
       " 'a',\n",
       " 'l',\n",
       " 'e',\n",
       " 'b',\n",
       " 'g',\n",
       " 'k',\n",
       " 'J',\n",
       " 't']"
      ]
     },
     "execution_count": 163,
     "metadata": {},
     "output_type": "execute_result"
    }
   ],
   "source": [
    "tokenizer.tokenize('😎 RT @VirginAmerica: You’ve met your match. Got status on another airline? Upgrade (+restr): http://t.co/RHKaMx9VF5. http://t.co/PYalebgkJt')"
   ]
  },
  {
   "cell_type": "code",
   "execution_count": 174,
   "metadata": {},
   "outputs": [],
   "source": [
    "l='hahaha 😂@VirginAmerica YOU GUYS ARE AMAZING. I LOVE YOU GUYS!!!💗'"
   ]
  },
  {
   "cell_type": "code",
   "execution_count": 175,
   "metadata": {},
   "outputs": [
    {
     "data": {
      "text/plain": [
       "['h',\n",
       " 'a',\n",
       " 'h',\n",
       " 'a',\n",
       " 'h',\n",
       " 'a',\n",
       " ' ',\n",
       " '😂',\n",
       " '@',\n",
       " 'V',\n",
       " 'i',\n",
       " 'r',\n",
       " 'g',\n",
       " 'i',\n",
       " 'n',\n",
       " 'A',\n",
       " 'm',\n",
       " 'e',\n",
       " 'r',\n",
       " 'i',\n",
       " 'c',\n",
       " 'a',\n",
       " ' ',\n",
       " 'Y',\n",
       " 'O',\n",
       " 'U',\n",
       " ' ',\n",
       " 'G',\n",
       " 'U',\n",
       " 'Y',\n",
       " 'S',\n",
       " ' ',\n",
       " 'A',\n",
       " 'R',\n",
       " 'E',\n",
       " ' ',\n",
       " 'A',\n",
       " 'M',\n",
       " 'A',\n",
       " 'Z',\n",
       " 'I',\n",
       " 'N',\n",
       " 'G',\n",
       " '.',\n",
       " ' ',\n",
       " 'I',\n",
       " ' ',\n",
       " 'L',\n",
       " 'O',\n",
       " 'V',\n",
       " 'E',\n",
       " ' ',\n",
       " 'Y',\n",
       " 'O',\n",
       " 'U',\n",
       " ' ',\n",
       " 'G',\n",
       " 'U',\n",
       " 'Y',\n",
       " 'S',\n",
       " '!',\n",
       " '!',\n",
       " '!',\n",
       " '💗']"
      ]
     },
     "execution_count": 175,
     "metadata": {},
     "output_type": "execute_result"
    }
   ],
   "source": [
    "list(l)"
   ]
  },
  {
   "cell_type": "code",
   "execution_count": 187,
   "metadata": {},
   "outputs": [],
   "source": [
    "base_path='/Users/evangelos/Downloads/aylien-science-challenge-master/data/'"
   ]
  },
  {
   "cell_type": "code",
   "execution_count": 211,
   "metadata": {},
   "outputs": [
    {
     "data": {
      "text/plain": [
       "Counter({'a': 2, 's': 1, 'd': 1, 'f': 1})"
      ]
     },
     "execution_count": 211,
     "metadata": {},
     "output_type": "execute_result"
    }
   ],
   "source": [
    "c=Counter('asdfa')\n",
    "c"
   ]
  },
  {
   "cell_type": "code",
   "execution_count": 212,
   "metadata": {},
   "outputs": [],
   "source": [
    "c.update('aaaa')"
   ]
  },
  {
   "cell_type": "code",
   "execution_count": 213,
   "metadata": {},
   "outputs": [
    {
     "data": {
      "text/plain": [
       "Counter({'a': 6, 's': 1, 'd': 1, 'f': 1})"
      ]
     },
     "execution_count": 213,
     "metadata": {},
     "output_type": "execute_result"
    }
   ],
   "source": [
    "c"
   ]
  },
  {
   "cell_type": "code",
   "execution_count": 216,
   "metadata": {},
   "outputs": [],
   "source": [
    "from collections import Counter"
   ]
  },
  {
   "cell_type": "code",
   "execution_count": 416,
   "metadata": {},
   "outputs": [
    {
     "data": {
      "text/plain": [
       "237"
      ]
     },
     "execution_count": 416,
     "metadata": {},
     "output_type": "execute_result"
    }
   ],
   "source": [
    "content=''\n",
    "for x in ['positive','negative','neutral']:\n",
    "    path=''.join([base_path,x])\n",
    "    file=open(path,'r')\n",
    "    content=''.join([content,file.read()])\n",
    "    \n",
    "len(sorted(list(set(content))))\n"
   ]
  },
  {
   "cell_type": "code",
   "execution_count": 397,
   "metadata": {},
   "outputs": [
    {
     "name": "stdout",
     "output_type": "stream",
     "text": [
      "{'*', 'K', 'B', '🎉', 'k', '°', '♥', 'p', '⭐', 'w', 'L', '+', '.', '=', '😋', '🌴', 'i', ' ', 'Q', 'G', '😻', '👍', '👌', ')', '😁', ',', '-', 'y', 'z', '☺', 'I', 'm', '’', '🙏', 'M', 'R', '0', '(', '1', '🌟', 'v', 'u', 'b', '$', '6', '✔', '~', '🔵', '🇧', 'd', '@', '💕', '7', '📲', '💁', 'l', '😱', '🇺', 'c', '%', '😘', 'C', '😂', '😏', '💘', '😊', \"'\", 'X', 'D', '😭', '👊', '😞', '😎', ';', '💯', 'E', '😃', 'F', '\\u200b', '👀', '😩', 'O', '💗', 'a', '👠', '_', ':', 'U', '👏', 'J', '&', '✨', 'n', '❗', '—', '🇸', 'f', '☀', 'W', '✈', '🇬', '–', '}', '⤴', 's', '#', '😄', '🐩', '^', 'Z', '😀', '💖', 'j', 'V', 'H', 'g', 'h', '😢', '💺', '!', 'o', '❤', 'â', 'P', '💜', 'q', 'T', '9', '🎵', '”', '3', 'Y', '☕', '🍸', '🙌', 'N', '😍', '🙅', '💙', '🎲', '8', 'S', 'x', '🌞', 'A', '😉', '😒', '2', '🍻', 'e', '\"', '4', '“', '🌏', '5', 'r', '{', '/', '?', '✌', '…', '️', 't', '😜', '\\n'}\n",
      "{'*', 'B', 'K', 'k', 'p', '😐', '😖', '🆘', '😲', '⭐', 'w', 'L', '+', '.', '=', '😠', 'i', ' ', 'Q', 'G', '👍', '💤', '👌', ')', '😁', '-', ',', '€', 'y', 'z', 'I', 'm', '’', '😈', '😤', 'M', 'R', '0', '(', 'É', '1', '😦', 'v', 'b', 'u', '$', '6', '~', 'd', '@', '7', '💁', 'l', '😱', '|', 'c', '%', '😘', 'C', 'á', '😂', '😏', '😊', \"'\", 'X', 'D', '😭', '😕', '👊', '😞', '😎', ';', '💝', 'E', '😃', '➡', 'F', '\\u200b', '🍅', '👀', '😩', 'O', '🐴', 'a', '⤵', '_', '👠', ':', 'U', '👏', 'J', '&', '😣', '[', 'n', '—', '🐳', 'f', '❌', '💩', '☀', '✅', 'W', '✈', '😬', '😥', '£', '}', '😪', 's', '#', '😅', '😄', '❄', 'ã', '^', 'Z', '😷', 'j', '\\xa0', 'V', 'H', 'g', '🆖', 'h', '😢', '💔', '💺', '👿', '!', 'o', '😔', '📱', '❤', 'P', 'q', '9', 'T', '”', '3', 'Y', 'é', '🙌', 'N', '😑', '😫', '👺', '😳', '8', 'S', '😓', 'x', 'A', '😒', '😉', '2', '👎', 'e', '\"', '4', '“', '5', 'r', '{', '👋', '/', '?', '‘', '✌', '⌚', 'º', '…', '😡', '️', 't', '⛄', ']', '\\n'}\n",
      "{'*', 'B', 'K', '🍷', 'k', '°', '😆', 'p', '♥', '👉', '😐', '😖', 'w', 'L', '+', '.', '=', '🌴', 'i', ' ', '🙉', 'Q', 'G', '👍', '😵', '👌', ')', '😁', ',', '-', 'y', 'z', '☺', 'I', 'm', '’', '🙏', 'M', 'R', '0', '(', '1', 'v', 'u', 'b', '$', '6', '~', '🇧', '@', 'd', '7', 'l', '|', '🇺', 'c', '😘', '%', '😮', 'C', 'á', '😂', '͜', '😏', '😊', \"'\", 'X', 'D', '😭', '😕', '😞', '😎', ';', '💯', '💝', 'E', '😃', 'F', '🚪', '👀', '😩', 'O', '💗', 'a', 'ʖ', '_', ':', 'U', 'J', '&', '[', '🚫', 'n', '—', '🇸', 'f', '☀', 'W', '✈', '😬', '🇬', '}', '🚶', 's', '#', '🎀', '😄', '❄', '^', 'Z', '😀', '😷', 'j', 'V', 'H', 'g', 'h', '😢', '💺', '💔', '!', 'o', '😔', '❤', 'P', 'q', 'T', '9', '”', '3', 'Y', 'é', '🙌', '👸', 'N', '💪', '😍', '😑', '🙈', '🙅', '😫', '😳', '8', 'S', 'x', '🌞', 'A', '😉', '😒', '2', 'í', '👎', 'e', '\"', '4', '“', '🌏', '5', 'r', '{', '/', '?', 'ê', '‘', '͡', '…', '️', 't', '😜', '↔', '⛄', ']', '\\n'}\n"
     ]
    }
   ],
   "source": [
    "counter=Counter()\n",
    "for x in ['positive','negative','neutral']:\n",
    "    path=''.join([base_path,x])\n",
    "    file=open(path,'r')\n",
    "    content=file.read()\n",
    "    print(set(content))\n",
    "    counter.update(content)"
   ]
  },
  {
   "cell_type": "code",
   "execution_count": 410,
   "metadata": {},
   "outputs": [
    {
     "data": {
      "text/plain": [
       "1"
      ]
     },
     "execution_count": 410,
     "metadata": {},
     "output_type": "execute_result"
    }
   ],
   "source": [
    "s=set(content)\n",
    "s=s.union(set('I am batman'))\n"
   ]
  },
  {
   "cell_type": "code",
   "execution_count": 218,
   "metadata": {},
   "outputs": [
    {
     "data": {
      "text/plain": [
       "Counter({' ': 245886,\n",
       "         'e': 127556,\n",
       "         't': 104570,\n",
       "         'o': 85463,\n",
       "         'a': 84239,\n",
       "         'i': 80202,\n",
       "         'n': 75552,\n",
       "         'r': 67344,\n",
       "         's': 62006,\n",
       "         'l': 51126,\n",
       "         'h': 49142,\n",
       "         'u': 40570,\n",
       "         'd': 38960,\n",
       "         'c': 30001,\n",
       "         'g': 29802,\n",
       "         'y': 28588,\n",
       "         'm': 28585,\n",
       "         'w': 25570,\n",
       "         'f': 22974,\n",
       "         'p': 20257,\n",
       "         '.': 19104,\n",
       "         'A': 16812,\n",
       "         '@': 16583,\n",
       "         '\\n': 14640,\n",
       "         'b': 14040,\n",
       "         'k': 11106,\n",
       "         'v': 10988,\n",
       "         'S': 8769,\n",
       "         'I': 8401,\n",
       "         \"'\": 5671,\n",
       "         '!': 5312,\n",
       "         'U': 4829,\n",
       "         '?': 4678,\n",
       "         '/': 4427,\n",
       "         'B': 4220,\n",
       "         ',': 4199,\n",
       "         'T': 4058,\n",
       "         'F': 3902,\n",
       "         'C': 3691,\n",
       "         '#': 3651,\n",
       "         'J': 3333,\n",
       "         '1': 2933,\n",
       "         '2': 2895,\n",
       "         '0': 2738,\n",
       "         'D': 2713,\n",
       "         'L': 2696,\n",
       "         'W': 2623,\n",
       "         'N': 2465,\n",
       "         ':': 2350,\n",
       "         'O': 2301,\n",
       "         'x': 2180,\n",
       "         'M': 2158,\n",
       "         'H': 2088,\n",
       "         'P': 2031,\n",
       "         '5': 1967,\n",
       "         '3': 1965,\n",
       "         'E': 1946,\n",
       "         '-': 1935,\n",
       "         '4': 1824,\n",
       "         'R': 1794,\n",
       "         'j': 1541,\n",
       "         'Y': 1472,\n",
       "         'V': 1254,\n",
       "         '7': 1200,\n",
       "         '6': 1194,\n",
       "         'G': 1168,\n",
       "         '8': 1098,\n",
       "         '9': 1012,\n",
       "         ';': 956,\n",
       "         '\"': 925,\n",
       "         '&': 823,\n",
       "         'K': 821,\n",
       "         'z': 750,\n",
       "         'q': 683,\n",
       "         ')': 674,\n",
       "         'X': 542,\n",
       "         '(': 520,\n",
       "         '$': 432,\n",
       "         'Z': 278,\n",
       "         'Q': 260,\n",
       "         '”': 202,\n",
       "         '+': 197,\n",
       "         '“': 193,\n",
       "         '_': 183,\n",
       "         '’': 147,\n",
       "         '️': 126,\n",
       "         '🙏': 125,\n",
       "         '😂': 62,\n",
       "         '✈': 57,\n",
       "         '^': 57,\n",
       "         '=': 53,\n",
       "         '😭': 44,\n",
       "         '…': 43,\n",
       "         '*': 43,\n",
       "         '👍': 42,\n",
       "         '😡': 33,\n",
       "         '😢': 32,\n",
       "         '❤': 31,\n",
       "         '😊': 31,\n",
       "         '%': 29,\n",
       "         '👏': 28,\n",
       "         '😉': 20,\n",
       "         '✌': 19,\n",
       "         '~': 18,\n",
       "         '😁': 18,\n",
       "         '😩': 18,\n",
       "         '😒': 17,\n",
       "         '😃': 16,\n",
       "         '👎': 16,\n",
       "         '👌': 14,\n",
       "         '🆘': 14,\n",
       "         '💙': 13,\n",
       "         '😄': 12,\n",
       "         '—': 11,\n",
       "         '😔': 11,\n",
       "         '☺': 10,\n",
       "         '😍': 10,\n",
       "         '|': 10,\n",
       "         '💔': 10,\n",
       "         '😕': 9,\n",
       "         '💗': 8,\n",
       "         '🎉': 8,\n",
       "         '{': 8,\n",
       "         '}': 8,\n",
       "         '❄': 8,\n",
       "         '😤': 8,\n",
       "         '🙌': 7,\n",
       "         '😜': 7,\n",
       "         '😞': 7,\n",
       "         '😑': 7,\n",
       "         '💕': 6,\n",
       "         '😎': 6,\n",
       "         '👠': 6,\n",
       "         '😀': 6,\n",
       "         '🌴': 6,\n",
       "         '⭐': 6,\n",
       "         '°': 6,\n",
       "         '🎀': 6,\n",
       "         '🇬': 5,\n",
       "         '🇧': 5,\n",
       "         '😏': 5,\n",
       "         '👀': 5,\n",
       "         '🇺': 5,\n",
       "         '🇸': 5,\n",
       "         '😥': 5,\n",
       "         '💩': 5,\n",
       "         '😐': 5,\n",
       "         '😳': 5,\n",
       "         '[': 5,\n",
       "         ']': 5,\n",
       "         '♥': 4,\n",
       "         '🙅': 4,\n",
       "         '💯': 4,\n",
       "         '😘': 4,\n",
       "         '💺': 4,\n",
       "         '☀': 4,\n",
       "         'é': 4,\n",
       "         '😫': 4,\n",
       "         '😖': 4,\n",
       "         '😠': 4,\n",
       "         '🍅': 4,\n",
       "         '💝': 4,\n",
       "         '͡': 4,\n",
       "         '🚶': 4,\n",
       "         '🌞': 3,\n",
       "         '😱': 3,\n",
       "         '😻': 3,\n",
       "         '💁': 3,\n",
       "         '🔵': 3,\n",
       "         '€': 3,\n",
       "         '😆': 3,\n",
       "         '💜': 2,\n",
       "         '🍸': 2,\n",
       "         '✨': 2,\n",
       "         '\\u200b': 2,\n",
       "         '😋': 2,\n",
       "         '🌟': 2,\n",
       "         '🍻': 2,\n",
       "         '⤴': 2,\n",
       "         '👊': 2,\n",
       "         '🌏': 2,\n",
       "         '☕': 2,\n",
       "         '‘': 2,\n",
       "         '👋': 2,\n",
       "         '👿': 2,\n",
       "         'ã': 2,\n",
       "         '😷': 2,\n",
       "         '\\xa0': 2,\n",
       "         '👺': 2,\n",
       "         'á': 2,\n",
       "         '⛄': 2,\n",
       "         '😓': 2,\n",
       "         '⤵': 2,\n",
       "         '😬': 2,\n",
       "         '🍷': 2,\n",
       "         '👸': 2,\n",
       "         '͜': 2,\n",
       "         'ʖ': 2,\n",
       "         '–': 1,\n",
       "         '✔': 1,\n",
       "         'â': 1,\n",
       "         '💖': 1,\n",
       "         '🎵': 1,\n",
       "         '❗': 1,\n",
       "         '🐩': 1,\n",
       "         '📲': 1,\n",
       "         '💘': 1,\n",
       "         '🎲': 1,\n",
       "         '💤': 1,\n",
       "         '£': 1,\n",
       "         '🆖': 1,\n",
       "         '✅': 1,\n",
       "         '❌': 1,\n",
       "         '😈': 1,\n",
       "         '😪': 1,\n",
       "         '😣': 1,\n",
       "         '📱': 1,\n",
       "         '😅': 1,\n",
       "         '🐴': 1,\n",
       "         '⌚': 1,\n",
       "         '🐳': 1,\n",
       "         'º': 1,\n",
       "         'É': 1,\n",
       "         '😲': 1,\n",
       "         '😦': 1,\n",
       "         '➡': 1,\n",
       "         '🙉': 1,\n",
       "         'í': 1,\n",
       "         '💪': 1,\n",
       "         '🚫': 1,\n",
       "         '↔': 1,\n",
       "         '🙈': 1,\n",
       "         '👉': 1,\n",
       "         '🚪': 1,\n",
       "         '😵': 1,\n",
       "         '😮': 1,\n",
       "         'ê': 1})"
      ]
     },
     "execution_count": 218,
     "metadata": {},
     "output_type": "execute_result"
    }
   ],
   "source": [
    "counter"
   ]
  },
  {
   "cell_type": "code",
   "execution_count": 219,
   "metadata": {},
   "outputs": [
    {
     "data": {
      "text/plain": [
       "237"
      ]
     },
     "execution_count": 219,
     "metadata": {},
     "output_type": "execute_result"
    }
   ],
   "source": [
    "len(counter)"
   ]
  },
  {
   "cell_type": "code",
   "execution_count": 292,
   "metadata": {},
   "outputs": [
    {
     "name": "stdout",
     "output_type": "stream",
     "text": [
      "positive 2363\n",
      "negative 9178\n",
      "neutral 3099\n"
     ]
    }
   ],
   "source": [
    "lines_list=[]\n",
    "for x in ['positive','negative','neutral']:\n",
    "    path=''.join([base_path,x])\n",
    "    file=open(path,'r')\n",
    "    content=file.readlines()\n",
    "    print(x,len(content))\n",
    "    lines_list.extend(content)"
   ]
  },
  {
   "cell_type": "code",
   "execution_count": 395,
   "metadata": {},
   "outputs": [],
   "source": [
    "content={}\n",
    "for x in ['positive','negative','neutral']:\n",
    "    path=''.join([base_path,x])\n",
    "    file=open(path,'r')\n",
    "    content[x]=file.readlines()\n",
    "    "
   ]
  },
  {
   "cell_type": "code",
   "execution_count": 396,
   "metadata": {},
   "outputs": [
    {
     "data": {
      "text/plain": [
       "(2363, 9178)"
      ]
     },
     "execution_count": 396,
     "metadata": {},
     "output_type": "execute_result"
    }
   ],
   "source": [
    "len(content['positive']),len(content['negative'])"
   ]
  },
  {
   "cell_type": "markdown",
   "metadata": {},
   "source": [
    " '@united @FlyANA_official pleasantly surprised to find ANA has made major upgrades on their transpacific route in flights, planes and service\\n',\n"
   ]
  },
  {
   "cell_type": "code",
   "execution_count": 354,
   "metadata": {},
   "outputs": [
    {
     "data": {
      "text/plain": [
       "['@SouthwestAir  Please Help. We really want to fly with you. #guessweflyingdelta\\n',\n",
       " '@USAirways we were moved to a delta direct. Thank you for the accommodations!\\n',\n",
       " \"@united silly I'm flying delta today. Your united club staff and attendants are surly and unhelpful and always seem bothered by pesky folk\\n\",\n",
       " '@united switched to fly united from delta for the past two trips and was very disappointed. Now my UA4646 on 2/23 is delayed by 3 hours!!\\n',\n",
       " '@united considering it. Currently gold on @delta. Why should I make the jump for an upcoming flight from SFO to Singapore?\\n',\n",
       " '@united thanks for causing us to miss our connection and now a 6hour delay #flydeltanexttime\\n',\n",
       " '@united they let us board again but will we fly this time? Who knows! #shouldhaveflowndelta\\n',\n",
       " '@united @delta lost my luggage from ATL to  hdn luggage in denver and said @united will deliver my luggage to HDN airport claim# hdndl11785\\n',\n",
       " '@united Hey, thanks again for helping me miss my buddies 30th bday, you guys are really a trashy company #shouldhaveflowndelta #unitedsucks\\n',\n",
       " \"@united look at all the delta flights that landed while your pilots claimed they couldn't fly 6232 to JAC. http://t.co/6Kp4m0R1f7\\n\",\n",
       " '@united not the case. Now delayed due to \"mechanical issues with no update on departure time\". Just Cancelled Flight the goddamn flight so I go delta\\n',\n",
       " '@united they did on a delta flight out of LAX which is why I should be compensated for my rental car there.\\n',\n",
       " \"@united You guys are atrocious.  Far better service as silver on Delta than you as a platinum.  I'll be switching back to delta.\\n\",\n",
       " \"@SouthwestAir, you're really going to let @delta and @virginamerica get the best of you? http://t.co/vUdWJm1lYB\\n\",\n",
       " '@SouthwestAir why am I still in Baltimore?! @delta is doing laps around us and laughing about it. # ridiculous\\n',\n",
       " '@JetBlue shocker my flight delayed an hour. Thanks for reminding me why I switched to delta.\\n',\n",
       " \"@JetBlue that's where we all get on the same page. Cancelled Flighted it 45 mins ago. @delta @SouthwestAir help flights from @tfgreenairport to MCO?\\n\",\n",
       " \"@JetBlue I'll give u a chance but I don't think I'll fall for it #backtodelta\\n\",\n",
       " '@USAirways your lack of customer service has shined. I need you to step up and get my lost baggage to delta. So they can return it to me.\\n',\n",
       " \"@USAirways only happened because u couldn't get us home the next day. #flydelta #flysouthwest #flyjetblue #theyareallbetter #stillnobags\\n\",\n",
       " \"@usairways Cancelled Flighted and rescheduled. said I'd have to pay $75 for earlier flight at next gate. Today @delta proactively offered same for $0\\n\",\n",
       " '@USAirways worse experience. Clt to DC. Oversold by 20, lost CARRY ON luggage.Cancelled Flightled connecting flight to NYC. #flydelta\\n',\n",
       " '@USAirways why did you Cancelled Flight flight 1773 to phl, while delta flew a flight at the same time, on time? you Cancelled Flighted for no reason\\n',\n",
       " '@USAirways 4+ hour hold, finally Cancelled Flighted ticket! sticking to @delta @Expedia who allow easy online Cancelled Flights/refunds! http://t.co/RKVCZBpdCE\\n',\n",
       " '@USAirways holding 30+ min and listening to your shitty ads on repeat for your credit make me hate your airline even more.  @delta is better\\n',\n",
       " '@AmericanAir delta rerouted 6 of my bags onto aa977 MIA-CUR. How can I see if they made it onto the flight?\\n',\n",
       " \"@AmericanAir gotta be worse than @delta w/ on time departures.  I rushed back to terminal C for 8:25 flight but they haven't strtd boarding.\\n\",\n",
       " '@united why de-ice before taxing? Maybe it #makestoomuchsense ? #shouldhaveflowndelta #unitedsucks @Delta @SouthwestAir @AmericanAir\\n',\n",
       " '@united I submitted a status match last week and have not heard back. Im a delta customer looking to switch to United. Please assist.\\n',\n",
       " '@SouthwestAir  goes to court to gain access to @Delta gates at Love Field  http://t.co/ILqzmMJiYQ #deltanews\\n',\n",
       " '@USAirways but i bougth mc caren to jfk with same agency and delta airways . Delta refund money but usairways doesnt accept to refund\\n',\n",
       " '@USAirways what are the odds you can get me on a flight with delta so I can actually get to Orlando today?? #2daysLate Flight\\n']"
      ]
     },
     "execution_count": 354,
     "metadata": {},
     "output_type": "execute_result"
    }
   ],
   "source": [
    "[x for x in lines_list if 'delta' in x]"
   ]
  },
  {
   "cell_type": "code",
   "execution_count": 293,
   "metadata": {},
   "outputs": [
    {
     "data": {
      "text/plain": [
       "14640"
      ]
     },
     "execution_count": 293,
     "metadata": {},
     "output_type": "execute_result"
    }
   ],
   "source": [
    "len(lines_list)"
   ]
  },
  {
   "cell_type": "code",
   "execution_count": 309,
   "metadata": {},
   "outputs": [
    {
     "name": "stdout",
     "output_type": "stream",
     "text": [
      "unitedthisisgreat\n"
     ]
    }
   ],
   "source": [
    "def strip_multiple_chars(s, chars):\n",
    "    # Create a translation table for the characters to be removed\n",
    "    translation_table = str.maketrans('', '', chars)\n",
    "    # Use the translate method to remove the characters\n",
    "    return s.translate(translation_table)\n",
    "\n",
    "# Example usage\n",
    "input_string = \"@united this is great!\"\n",
    "chars_to_remove = \"@! \"\n",
    "result = strip_multiple_chars(input_string, chars_to_remove)\n",
    "print(result)  # Output: unitedthisisgreat\n"
   ]
  },
  {
   "cell_type": "code",
   "execution_count": 318,
   "metadata": {},
   "outputs": [
    {
     "data": {
      "text/plain": [
       "{'@albertbreer',\n",
       " '@americanair',\n",
       " '@americanaireveryone',\n",
       " '@americanairif',\n",
       " '@americanairstill',\n",
       " '@andrewfallis',\n",
       " '@catfoodbeerglue',\n",
       " '@deltaassist',\n",
       " '@djevolutionhd',\n",
       " '@eatgregeat',\n",
       " '@hillaconlin',\n",
       " '@jetblue',\n",
       " '@jetblues',\n",
       " '@lindaswc',\n",
       " '@malhoit',\n",
       " '@ninadavuluri',\n",
       " '@nrhodes85',\n",
       " '@ods1819',\n",
       " '@sarahpompei',\n",
       " '@sb5551',\n",
       " '@scm1133',\n",
       " '@shannonwoodward',\n",
       " '@southwestair',\n",
       " '@southwestair4569',\n",
       " '@southwestairgive',\n",
       " '@southwestairs',\n",
       " '@southwestairswadiversity',\n",
       " '@timbennettg3',\n",
       " '@united',\n",
       " '@uniteddo',\n",
       " '@unitedexcited',\n",
       " '@unitedlies',\n",
       " '@unitedrebooked',\n",
       " '@uniteds',\n",
       " '@unitedyou',\n",
       " '@united\\u200b',\n",
       " '@usairways',\n",
       " '@vanessaannz',\n",
       " '@virginamerica',\n",
       " '@virginamericawjere'}"
      ]
     },
     "execution_count": 318,
     "metadata": {},
     "output_type": "execute_result"
    }
   ],
   "source": [
    "{strip_multiple_chars(x.split(' ')[0].lower(),\"'.,-!#:?\") for x in lines_list if x.startswith('@')}"
   ]
  },
  {
   "cell_type": "code",
   "execution_count": 329,
   "metadata": {},
   "outputs": [],
   "source": [
    "airlines_list=['@americanair','@jetblue','@southwestair','@united','@usairways','@virginamerica']"
   ]
  },
  {
   "cell_type": "code",
   "execution_count": 367,
   "metadata": {},
   "outputs": [],
   "source": [
    "def airlines_counter(tweets:list[str])->dict:\n",
    "    counter={}\n",
    "    \n",
    "    for sentence in tweets:\n",
    "        first_word=sentence.split(' ')[0].lower()\n",
    "        for airline in airlines_list:\n",
    "            if airline==first_word:\n",
    "                \n",
    "                counter[airline]=counter.get(airline,0)+1\n",
    "    return counter\n",
    "        \n"
   ]
  },
  {
   "cell_type": "code",
   "execution_count": 392,
   "metadata": {},
   "outputs": [
    {
     "ename": "TypeError",
     "evalue": "list indices must be integers or slices, not str",
     "output_type": "error",
     "traceback": [
      "\u001b[0;31m---------------------------------------------------------------------------\u001b[0m",
      "\u001b[0;31mTypeError\u001b[0m                                 Traceback (most recent call last)",
      "Cell \u001b[0;32mIn[392], line 5\u001b[0m\n\u001b[1;32m      2\u001b[0m approx_totals_list\u001b[38;5;241m=\u001b[39m[]\n\u001b[1;32m      3\u001b[0m \u001b[38;5;28;01mfor\u001b[39;00m x \u001b[38;5;129;01min\u001b[39;00m [\u001b[38;5;124m'\u001b[39m\u001b[38;5;124mpositive\u001b[39m\u001b[38;5;124m'\u001b[39m,\u001b[38;5;124m'\u001b[39m\u001b[38;5;124mnegative\u001b[39m\u001b[38;5;124m'\u001b[39m,\u001b[38;5;124m'\u001b[39m\u001b[38;5;124mneutral\u001b[39m\u001b[38;5;124m'\u001b[39m]:\n\u001b[0;32m----> 5\u001b[0m     \u001b[38;5;28mdict\u001b[39m\u001b[38;5;241m=\u001b[39mairlines_counter(\u001b[43mcontent\u001b[49m\u001b[43m[\u001b[49m\u001b[43mx\u001b[49m\u001b[43m]\u001b[49m)\n\u001b[1;32m      6\u001b[0m     total\u001b[38;5;241m=\u001b[39m\u001b[38;5;28msum\u001b[39m(\u001b[38;5;28mdict\u001b[39m\u001b[38;5;241m.\u001b[39mvalues())\n\u001b[1;32m      7\u001b[0m     norm_dict\u001b[38;5;241m=\u001b[39m{key: value\u001b[38;5;241m/\u001b[39mtotal\u001b[38;5;241m*\u001b[39m\u001b[38;5;241m100\u001b[39m \u001b[38;5;28;01mfor\u001b[39;00m key,value \u001b[38;5;129;01min\u001b[39;00m \u001b[38;5;28mdict\u001b[39m\u001b[38;5;241m.\u001b[39mitems()}\n",
      "\u001b[0;31mTypeError\u001b[0m: list indices must be integers or slices, not str"
     ]
    }
   ],
   "source": [
    "#approximate airlines distribution per sentiment file\n",
    "approx_totals_list=[]\n",
    "for x in ['positive','negative','neutral']:\n",
    "\n",
    "    dict=airlines_counter(content[x])\n",
    "    total=sum(dict.values())\n",
    "    norm_dict={key: value/total*100 for key,value in dict.items()}\n",
    "    \n",
    "    print (norm_dict)\n",
    "    print(total)\n",
    "    approx_totals_list.append(total)"
   ]
  },
  {
   "cell_type": "code",
   "execution_count": 390,
   "metadata": {},
   "outputs": [
    {
     "name": "stdout",
     "output_type": "stream",
     "text": [
      "2363\n",
      "9178\n",
      "3099\n"
     ]
    }
   ],
   "source": [
    "# actual total sums of tweets per sentiment file\n",
    "actual_totals_list=[]\n",
    "for x in ['positive','negative','neutral']:\n",
    "    path=''.join([base_path,x])\n",
    "    file=open(path,'r')\n",
    "    content=file.readlines()\n",
    "    print(len(content))\n",
    "\n"
   ]
  },
  {
   "cell_type": "code",
   "execution_count": 371,
   "metadata": {},
   "outputs": [
    {
     "data": {
      "text/plain": [
       "Counter({'@united': 3670,\n",
       "         '@usairways': 2847,\n",
       "         '@americanair': 2679,\n",
       "         '@southwestair': 2350,\n",
       "         '@jetblue': 1954,\n",
       "         '@virginamerica': 481})"
      ]
     },
     "execution_count": 371,
     "metadata": {},
     "output_type": "execute_result"
    }
   ],
   "source": [
    "#check airlines_counters for all sentiments add to previous result\n",
    "from collections import Counter\n",
    "result=Counter()\n",
    "for x in ['positive','negative','neutral']:\n",
    "    result+=Counter(airlines_counter(content[x]))\n",
    "result"
   ]
  },
  {
   "cell_type": "code",
   "execution_count": 206,
   "metadata": {},
   "outputs": [
    {
     "data": {
      "text/plain": [
       "14640"
      ]
     },
     "execution_count": 206,
     "metadata": {},
     "output_type": "execute_result"
    }
   ],
   "source": [
    "len(lines_list)"
   ]
  },
  {
   "cell_type": "code",
   "execution_count": 209,
   "metadata": {},
   "outputs": [],
   "source": [
    "tweet_lenghts=[len(x) for x in lines_list]"
   ]
  },
  {
   "cell_type": "code",
   "execution_count": 207,
   "metadata": {},
   "outputs": [],
   "source": [
    "import statistics"
   ]
  },
  {
   "cell_type": "code",
   "execution_count": 210,
   "metadata": {},
   "outputs": [
    {
     "data": {
      "text/plain": [
       "([78.0, 115.0, 137.0], 104.80806010928961)"
      ]
     },
     "execution_count": 210,
     "metadata": {},
     "output_type": "execute_result"
    }
   ],
   "source": [
    "statistics.quantiles(tweet_lenghts),statistics.mean(tweet_lenghts)"
   ]
  },
  {
   "cell_type": "code",
   "execution_count": 202,
   "metadata": {},
   "outputs": [
    {
     "name": "stdout",
     "output_type": "stream",
     "text": [
      "Help on function quantiles in module statistics:\n",
      "\n",
      "quantiles(data, *, n=4, method='exclusive')\n",
      "    Divide *data* into *n* continuous intervals with equal probability.\n",
      "    \n",
      "    Returns a list of (n - 1) cut points separating the intervals.\n",
      "    \n",
      "    Set *n* to 4 for quartiles (the default).  Set *n* to 10 for deciles.\n",
      "    Set *n* to 100 for percentiles which gives the 99 cuts points that\n",
      "    separate *data* in to 100 equal sized groups.\n",
      "    \n",
      "    The *data* can be any iterable containing sample.\n",
      "    The cut points are linearly interpolated between data points.\n",
      "    \n",
      "    If *method* is set to *inclusive*, *data* is treated as population\n",
      "    data.  The minimum value is treated as the 0th percentile and the\n",
      "    maximum value is treated as the 100th percentile.\n",
      "\n"
     ]
    }
   ],
   "source": [
    "help(statistics.quantiles)"
   ]
  },
  {
   "cell_type": "code",
   "execution_count": 220,
   "metadata": {},
   "outputs": [
    {
     "name": "stdout",
     "output_type": "stream",
     "text": [
      "Vocabulary Size: 31\n"
     ]
    }
   ],
   "source": [
    "import emoji\n",
    "import torch\n",
    "import torch.nn as nn\n",
    "from collections import defaultdict\n",
    "\n",
    "class CharacterTokenizer:\n",
    "    def __init__(self):\n",
    "        # Start with special tokens\n",
    "        self.char_to_index = {\"<PAD>\": 0, \"<UNK>\": 1}\n",
    "        self.index_to_char = {0: \"<PAD>\", 1: \"<UNK>\"}\n",
    "    \n",
    "    def build_vocabulary(self, text):\n",
    "        unique_chars = set(text)\n",
    "        for char in unique_chars:\n",
    "            if char not in self.char_to_index:\n",
    "                idx = len(self.char_to_index)\n",
    "                self.char_to_index[char] = idx\n",
    "                self.index_to_char[idx] = char\n",
    "    \n",
    "    def encode(self, text):\n",
    "        # Tokenize and convert characters to indices\n",
    "        return [self.char_to_index.get(char, self.char_to_index[\"<UNK>\"]) for char in text]\n",
    "\n",
    "# Example usage\n",
    "tokenizer = CharacterTokenizer()\n",
    "\n",
    "# Sample text from tweets\n",
    "tweets = [\"Loving this new track! 🎵🔥 #NewMusic @theartist\", \"Wow! What a game last night 😱🏀\"]\n",
    "for tweet in tweets:\n",
    "    tokenizer.build_vocabulary(tweet)\n",
    "\n",
    "# Check vocabulary\n",
    "print(\"Vocabulary Size:\", len(tokenizer.char_to_index))\n"
   ]
  },
  {
   "cell_type": "code",
   "execution_count": 224,
   "metadata": {},
   "outputs": [
    {
     "name": "stdout",
     "output_type": "stream",
     "text": [
      "[[8, 15, 21, 9, 20, 10, 11, 23, 12, 9, 2, 11, 20, 13, 7, 11, 23, 16, 17, 5, 6, 14, 11, 18, 4, 11, 3, 24, 13, 7, 19, 22, 2, 9, 5, 11, 25, 23, 12, 13, 17, 16, 23, 9, 2, 23], [30, 15, 7, 14, 11, 30, 12, 17, 23, 11, 17, 11, 10, 17, 28, 13, 11, 26, 17, 2, 23, 11, 20, 9, 10, 12, 23, 11, 27, 29]]\n"
     ]
    }
   ],
   "source": [
    "encoded_tweets = [tokenizer.encode(tweet) for tweet in tweets]\n",
    "print(encoded_tweets)\n"
   ]
  },
  {
   "cell_type": "code",
   "execution_count": 229,
   "metadata": {},
   "outputs": [
    {
     "data": {
      "text/plain": [
       "['\\n',\n",
       " ' ',\n",
       " '!',\n",
       " '\"',\n",
       " '#',\n",
       " '$',\n",
       " '%',\n",
       " '&',\n",
       " \"'\",\n",
       " '(',\n",
       " ')',\n",
       " '*',\n",
       " '+',\n",
       " ',',\n",
       " '-',\n",
       " '.',\n",
       " '/',\n",
       " '0',\n",
       " '1',\n",
       " '2',\n",
       " '3',\n",
       " '4',\n",
       " '5',\n",
       " '6',\n",
       " '7',\n",
       " '8',\n",
       " '9',\n",
       " ':',\n",
       " ';',\n",
       " '=',\n",
       " '?',\n",
       " '@',\n",
       " 'A',\n",
       " 'B',\n",
       " 'C',\n",
       " 'D',\n",
       " 'E',\n",
       " 'F',\n",
       " 'G',\n",
       " 'H',\n",
       " 'I',\n",
       " 'J',\n",
       " 'K',\n",
       " 'L',\n",
       " 'M',\n",
       " 'N',\n",
       " 'O',\n",
       " 'P',\n",
       " 'Q',\n",
       " 'R',\n",
       " 'S',\n",
       " 'T',\n",
       " 'U',\n",
       " 'V',\n",
       " 'W',\n",
       " 'X',\n",
       " 'Y',\n",
       " 'Z',\n",
       " '[',\n",
       " ']',\n",
       " '^',\n",
       " '_',\n",
       " 'a',\n",
       " 'b',\n",
       " 'c',\n",
       " 'd',\n",
       " 'e',\n",
       " 'f',\n",
       " 'g',\n",
       " 'h',\n",
       " 'i',\n",
       " 'j',\n",
       " 'k',\n",
       " 'l',\n",
       " 'm',\n",
       " 'n',\n",
       " 'o',\n",
       " 'p',\n",
       " 'q',\n",
       " 'r',\n",
       " 's',\n",
       " 't',\n",
       " 'u',\n",
       " 'v',\n",
       " 'w',\n",
       " 'x',\n",
       " 'y',\n",
       " 'z',\n",
       " '{',\n",
       " '|',\n",
       " '}',\n",
       " '~',\n",
       " '\\xa0',\n",
       " '£',\n",
       " '°',\n",
       " 'º',\n",
       " 'É',\n",
       " 'á',\n",
       " 'â',\n",
       " 'ã',\n",
       " 'é',\n",
       " 'ê',\n",
       " 'í',\n",
       " 'ʖ',\n",
       " '͜',\n",
       " '͡',\n",
       " '\\u200b',\n",
       " '–',\n",
       " '—',\n",
       " '‘',\n",
       " '’',\n",
       " '“',\n",
       " '”',\n",
       " '…',\n",
       " '€',\n",
       " '↔',\n",
       " '⌚',\n",
       " '☀',\n",
       " '☕',\n",
       " '☺',\n",
       " '♥',\n",
       " '⛄',\n",
       " '✅',\n",
       " '✈',\n",
       " '✌',\n",
       " '✔',\n",
       " '✨',\n",
       " '❄',\n",
       " '❌',\n",
       " '❗',\n",
       " '❤',\n",
       " '➡',\n",
       " '⤴',\n",
       " '⤵',\n",
       " '⭐',\n",
       " '️',\n",
       " '🆖',\n",
       " '🆘',\n",
       " '🇧',\n",
       " '🇬',\n",
       " '🇸',\n",
       " '🇺',\n",
       " '🌏',\n",
       " '🌞',\n",
       " '🌟',\n",
       " '🌴',\n",
       " '🍅',\n",
       " '🍷',\n",
       " '🍸',\n",
       " '🍻',\n",
       " '🎀',\n",
       " '🎉',\n",
       " '🎲',\n",
       " '🎵',\n",
       " '🐩',\n",
       " '🐳',\n",
       " '🐴',\n",
       " '👀',\n",
       " '👉',\n",
       " '👊',\n",
       " '👋',\n",
       " '👌',\n",
       " '👍',\n",
       " '👎',\n",
       " '👏',\n",
       " '👠',\n",
       " '👸',\n",
       " '👺',\n",
       " '👿',\n",
       " '💁',\n",
       " '💔',\n",
       " '💕',\n",
       " '💖',\n",
       " '💗',\n",
       " '💘',\n",
       " '💙',\n",
       " '💜',\n",
       " '💝',\n",
       " '💤',\n",
       " '💩',\n",
       " '💪',\n",
       " '💯',\n",
       " '💺',\n",
       " '📱',\n",
       " '📲',\n",
       " '🔵',\n",
       " '😀',\n",
       " '😁',\n",
       " '😂',\n",
       " '😃',\n",
       " '😄',\n",
       " '😅',\n",
       " '😆',\n",
       " '😈',\n",
       " '😉',\n",
       " '😊',\n",
       " '😋',\n",
       " '😍',\n",
       " '😎',\n",
       " '😏',\n",
       " '😐',\n",
       " '😑',\n",
       " '😒',\n",
       " '😓',\n",
       " '😔',\n",
       " '😕',\n",
       " '😖',\n",
       " '😘',\n",
       " '😜',\n",
       " '😞',\n",
       " '😠',\n",
       " '😡',\n",
       " '😢',\n",
       " '😣',\n",
       " '😤',\n",
       " '😥',\n",
       " '😦',\n",
       " '😩',\n",
       " '😪',\n",
       " '😫',\n",
       " '😬',\n",
       " '😭',\n",
       " '😮',\n",
       " '😱',\n",
       " '😲',\n",
       " '😳',\n",
       " '😵',\n",
       " '😷',\n",
       " '😻',\n",
       " '🙅',\n",
       " '🙈',\n",
       " '🙉',\n",
       " '🙌',\n",
       " '🙏',\n",
       " '🚪',\n",
       " '🚫',\n",
       " '🚶']"
      ]
     },
     "execution_count": 229,
     "metadata": {},
     "output_type": "execute_result"
    }
   ],
   "source": [
    "sorted(list(counter.keys()))"
   ]
  },
  {
   "cell_type": "code",
   "execution_count": 231,
   "metadata": {},
   "outputs": [],
   "source": [
    "x=nn.Embedding(10,2)"
   ]
  },
  {
   "cell_type": "code",
   "execution_count": 233,
   "metadata": {},
   "outputs": [
    {
     "name": "stdout",
     "output_type": "stream",
     "text": [
      "Help on Embedding in module torch.nn.modules.sparse object:\n",
      "\n",
      "class Embedding(torch.nn.modules.module.Module)\n",
      " |  Embedding(num_embeddings: int, embedding_dim: int, padding_idx: Optional[int] = None, max_norm: Optional[float] = None, norm_type: float = 2.0, scale_grad_by_freq: bool = False, sparse: bool = False, _weight: Optional[torch.Tensor] = None, _freeze: bool = False, device=None, dtype=None) -> None\n",
      " |  \n",
      " |  A simple lookup table that stores embeddings of a fixed dictionary and size.\n",
      " |  \n",
      " |  This module is often used to store word embeddings and retrieve them using indices.\n",
      " |  The input to the module is a list of indices, and the output is the corresponding\n",
      " |  word embeddings.\n",
      " |  \n",
      " |  Args:\n",
      " |      num_embeddings (int): size of the dictionary of embeddings\n",
      " |      embedding_dim (int): the size of each embedding vector\n",
      " |      padding_idx (int, optional): If specified, the entries at :attr:`padding_idx` do not contribute to the gradient;\n",
      " |                                   therefore, the embedding vector at :attr:`padding_idx` is not updated during training,\n",
      " |                                   i.e. it remains as a fixed \"pad\". For a newly constructed Embedding,\n",
      " |                                   the embedding vector at :attr:`padding_idx` will default to all zeros,\n",
      " |                                   but can be updated to another value to be used as the padding vector.\n",
      " |      max_norm (float, optional): If given, each embedding vector with norm larger than :attr:`max_norm`\n",
      " |                                  is renormalized to have norm :attr:`max_norm`.\n",
      " |      norm_type (float, optional): The p of the p-norm to compute for the :attr:`max_norm` option. Default ``2``.\n",
      " |      scale_grad_by_freq (bool, optional): If given, this will scale gradients by the inverse of frequency of\n",
      " |                                              the words in the mini-batch. Default ``False``.\n",
      " |      sparse (bool, optional): If ``True``, gradient w.r.t. :attr:`weight` matrix will be a sparse tensor.\n",
      " |                               See Notes for more details regarding sparse gradients.\n",
      " |  \n",
      " |  Attributes:\n",
      " |      weight (Tensor): the learnable weights of the module of shape (num_embeddings, embedding_dim)\n",
      " |                       initialized from :math:`\\mathcal{N}(0, 1)`\n",
      " |  \n",
      " |  Shape:\n",
      " |      - Input: :math:`(*)`, IntTensor or LongTensor of arbitrary shape containing the indices to extract\n",
      " |      - Output: :math:`(*, H)`, where `*` is the input shape and :math:`H=\\text{embedding\\_dim}`\n",
      " |  \n",
      " |  .. note::\n",
      " |      Keep in mind that only a limited number of optimizers support\n",
      " |      sparse gradients: currently it's :class:`optim.SGD` (`CUDA` and `CPU`),\n",
      " |      :class:`optim.SparseAdam` (`CUDA` and `CPU`) and :class:`optim.Adagrad` (`CPU`)\n",
      " |  \n",
      " |  .. note::\n",
      " |      When :attr:`max_norm` is not ``None``, :class:`Embedding`'s forward method will modify the\n",
      " |      :attr:`weight` tensor in-place. Since tensors needed for gradient computations cannot be\n",
      " |      modified in-place, performing a differentiable operation on ``Embedding.weight`` before\n",
      " |      calling :class:`Embedding`'s forward method requires cloning ``Embedding.weight`` when\n",
      " |      :attr:`max_norm` is not ``None``. For example::\n",
      " |  \n",
      " |          n, d, m = 3, 5, 7\n",
      " |          embedding = nn.Embedding(n, d, max_norm=True)\n",
      " |          W = torch.randn((m, d), requires_grad=True)\n",
      " |          idx = torch.tensor([1, 2])\n",
      " |          a = embedding.weight.clone() @ W.t()  # weight must be cloned for this to be differentiable\n",
      " |          b = embedding(idx) @ W.t()  # modifies weight in-place\n",
      " |          out = (a.unsqueeze(0) + b.unsqueeze(1))\n",
      " |          loss = out.sigmoid().prod()\n",
      " |          loss.backward()\n",
      " |  \n",
      " |  Examples::\n",
      " |  \n",
      " |      >>> # an Embedding module containing 10 tensors of size 3\n",
      " |      >>> embedding = nn.Embedding(10, 3)\n",
      " |      >>> # a batch of 2 samples of 4 indices each\n",
      " |      >>> input = torch.LongTensor([[1, 2, 4, 5], [4, 3, 2, 9]])\n",
      " |      >>> # xdoctest: +IGNORE_WANT(\"non-deterministic\")\n",
      " |      >>> embedding(input)\n",
      " |      tensor([[[-0.0251, -1.6902,  0.7172],\n",
      " |               [-0.6431,  0.0748,  0.6969],\n",
      " |               [ 1.4970,  1.3448, -0.9685],\n",
      " |               [-0.3677, -2.7265, -0.1685]],\n",
      " |  \n",
      " |              [[ 1.4970,  1.3448, -0.9685],\n",
      " |               [ 0.4362, -0.4004,  0.9400],\n",
      " |               [-0.6431,  0.0748,  0.6969],\n",
      " |               [ 0.9124, -2.3616,  1.1151]]])\n",
      " |  \n",
      " |  \n",
      " |      >>> # example with padding_idx\n",
      " |      >>> embedding = nn.Embedding(10, 3, padding_idx=0)\n",
      " |      >>> input = torch.LongTensor([[0, 2, 0, 5]])\n",
      " |      >>> embedding(input)\n",
      " |      tensor([[[ 0.0000,  0.0000,  0.0000],\n",
      " |               [ 0.1535, -2.0309,  0.9315],\n",
      " |               [ 0.0000,  0.0000,  0.0000],\n",
      " |               [-0.1655,  0.9897,  0.0635]]])\n",
      " |  \n",
      " |      >>> # example of changing `pad` vector\n",
      " |      >>> padding_idx = 0\n",
      " |      >>> embedding = nn.Embedding(3, 3, padding_idx=padding_idx)\n",
      " |      >>> embedding.weight\n",
      " |      Parameter containing:\n",
      " |      tensor([[ 0.0000,  0.0000,  0.0000],\n",
      " |              [-0.7895, -0.7089, -0.0364],\n",
      " |              [ 0.6778,  0.5803,  0.2678]], requires_grad=True)\n",
      " |      >>> with torch.no_grad():\n",
      " |      ...     embedding.weight[padding_idx] = torch.ones(3)\n",
      " |      >>> embedding.weight\n",
      " |      Parameter containing:\n",
      " |      tensor([[ 1.0000,  1.0000,  1.0000],\n",
      " |              [-0.7895, -0.7089, -0.0364],\n",
      " |              [ 0.6778,  0.5803,  0.2678]], requires_grad=True)\n",
      " |  \n",
      " |  Method resolution order:\n",
      " |      Embedding\n",
      " |      torch.nn.modules.module.Module\n",
      " |      builtins.object\n",
      " |  \n",
      " |  Methods defined here:\n",
      " |  \n",
      " |  __init__(self, num_embeddings: int, embedding_dim: int, padding_idx: Optional[int] = None, max_norm: Optional[float] = None, norm_type: float = 2.0, scale_grad_by_freq: bool = False, sparse: bool = False, _weight: Optional[torch.Tensor] = None, _freeze: bool = False, device=None, dtype=None) -> None\n",
      " |      Initialize internal Module state, shared by both nn.Module and ScriptModule.\n",
      " |  \n",
      " |  extra_repr(self) -> str\n",
      " |      Set the extra representation of the module.\n",
      " |      \n",
      " |      To print customized extra information, you should re-implement\n",
      " |      this method in your own modules. Both single-line and multi-line\n",
      " |      strings are acceptable.\n",
      " |  \n",
      " |  forward(self, input: torch.Tensor) -> torch.Tensor\n",
      " |      Define the computation performed at every call.\n",
      " |      \n",
      " |      Should be overridden by all subclasses.\n",
      " |      \n",
      " |      .. note::\n",
      " |          Although the recipe for forward pass needs to be defined within\n",
      " |          this function, one should call the :class:`Module` instance afterwards\n",
      " |          instead of this since the former takes care of running the\n",
      " |          registered hooks while the latter silently ignores them.\n",
      " |  \n",
      " |  reset_parameters(self) -> None\n",
      " |  \n",
      " |  ----------------------------------------------------------------------\n",
      " |  Class methods defined here:\n",
      " |  \n",
      " |  from_pretrained(embeddings, freeze=True, padding_idx=None, max_norm=None, norm_type=2.0, scale_grad_by_freq=False, sparse=False) from builtins.type\n",
      " |      Create Embedding instance from given 2-dimensional FloatTensor.\n",
      " |      \n",
      " |      Args:\n",
      " |          embeddings (Tensor): FloatTensor containing weights for the Embedding.\n",
      " |              First dimension is being passed to Embedding as ``num_embeddings``, second as ``embedding_dim``.\n",
      " |          freeze (bool, optional): If ``True``, the tensor does not get updated in the learning process.\n",
      " |              Equivalent to ``embedding.weight.requires_grad = False``. Default: ``True``\n",
      " |          padding_idx (int, optional): If specified, the entries at :attr:`padding_idx` do not contribute to the gradient;\n",
      " |                                       therefore, the embedding vector at :attr:`padding_idx` is not updated during training,\n",
      " |                                       i.e. it remains as a fixed \"pad\".\n",
      " |          max_norm (float, optional): See module initialization documentation.\n",
      " |          norm_type (float, optional): See module initialization documentation. Default ``2``.\n",
      " |          scale_grad_by_freq (bool, optional): See module initialization documentation. Default ``False``.\n",
      " |          sparse (bool, optional): See module initialization documentation.\n",
      " |      \n",
      " |      Examples::\n",
      " |      \n",
      " |          >>> # FloatTensor containing pretrained weights\n",
      " |          >>> weight = torch.FloatTensor([[1, 2.3, 3], [4, 5.1, 6.3]])\n",
      " |          >>> embedding = nn.Embedding.from_pretrained(weight)\n",
      " |          >>> # Get embeddings for index 1\n",
      " |          >>> input = torch.LongTensor([1])\n",
      " |          >>> # xdoctest: +IGNORE_WANT(\"non-deterministic\")\n",
      " |          >>> embedding(input)\n",
      " |          tensor([[ 4.0000,  5.1000,  6.3000]])\n",
      " |  \n",
      " |  ----------------------------------------------------------------------\n",
      " |  Data and other attributes defined here:\n",
      " |  \n",
      " |  __annotations__ = {'embedding_dim': <class 'int'>, 'freeze': <class 'b...\n",
      " |  \n",
      " |  __constants__ = ['num_embeddings', 'embedding_dim', 'padding_idx', 'ma...\n",
      " |  \n",
      " |  ----------------------------------------------------------------------\n",
      " |  Methods inherited from torch.nn.modules.module.Module:\n",
      " |  \n",
      " |  __call__ = _wrapped_call_impl(self, *args, **kwargs)\n",
      " |  \n",
      " |  __delattr__(self, name)\n",
      " |      Implement delattr(self, name).\n",
      " |  \n",
      " |  __dir__(self)\n",
      " |      Default dir() implementation.\n",
      " |  \n",
      " |  __getattr__(self, name: str) -> Any\n",
      " |      # On the return type:\n",
      " |      # We choose to return `Any` in the `__getattr__` type signature instead of a more strict `Union[Tensor, Module]`.\n",
      " |      # This is done for better interop with various type checkers for the end users.\n",
      " |      # Having a stricter return type doesn't play nicely with `register_buffer()` and forces\n",
      " |      # people to excessively use type-ignores, asserts, casts, etc.\n",
      " |      # See full discussion on the problems with returning `Union` here\n",
      " |      # https://github.com/microsoft/pyright/issues/4213\n",
      " |  \n",
      " |  __getstate__(self)\n",
      " |      Helper for pickle.\n",
      " |  \n",
      " |  __repr__(self)\n",
      " |      Return repr(self).\n",
      " |  \n",
      " |  __setattr__(self, name: str, value: Union[torch.Tensor, ForwardRef('Module')]) -> None\n",
      " |      Implement setattr(self, name, value).\n",
      " |  \n",
      " |  __setstate__(self, state)\n",
      " |  \n",
      " |  add_module(self, name: str, module: Optional[ForwardRef('Module')]) -> None\n",
      " |      Add a child module to the current module.\n",
      " |      \n",
      " |      The module can be accessed as an attribute using the given name.\n",
      " |      \n",
      " |      Args:\n",
      " |          name (str): name of the child module. The child module can be\n",
      " |              accessed from this module using the given name\n",
      " |          module (Module): child module to be added to the module.\n",
      " |  \n",
      " |  apply(self: ~T, fn: Callable[[ForwardRef('Module')], NoneType]) -> ~T\n",
      " |      Apply ``fn`` recursively to every submodule (as returned by ``.children()``) as well as self.\n",
      " |      \n",
      " |      Typical use includes initializing the parameters of a model\n",
      " |      (see also :ref:`nn-init-doc`).\n",
      " |      \n",
      " |      Args:\n",
      " |          fn (:class:`Module` -> None): function to be applied to each submodule\n",
      " |      \n",
      " |      Returns:\n",
      " |          Module: self\n",
      " |      \n",
      " |      Example::\n",
      " |      \n",
      " |          >>> @torch.no_grad()\n",
      " |          >>> def init_weights(m):\n",
      " |          >>>     print(m)\n",
      " |          >>>     if type(m) == nn.Linear:\n",
      " |          >>>         m.weight.fill_(1.0)\n",
      " |          >>>         print(m.weight)\n",
      " |          >>> net = nn.Sequential(nn.Linear(2, 2), nn.Linear(2, 2))\n",
      " |          >>> net.apply(init_weights)\n",
      " |          Linear(in_features=2, out_features=2, bias=True)\n",
      " |          Parameter containing:\n",
      " |          tensor([[1., 1.],\n",
      " |                  [1., 1.]], requires_grad=True)\n",
      " |          Linear(in_features=2, out_features=2, bias=True)\n",
      " |          Parameter containing:\n",
      " |          tensor([[1., 1.],\n",
      " |                  [1., 1.]], requires_grad=True)\n",
      " |          Sequential(\n",
      " |            (0): Linear(in_features=2, out_features=2, bias=True)\n",
      " |            (1): Linear(in_features=2, out_features=2, bias=True)\n",
      " |          )\n",
      " |  \n",
      " |  bfloat16(self: ~T) -> ~T\n",
      " |      Casts all floating point parameters and buffers to ``bfloat16`` datatype.\n",
      " |      \n",
      " |      .. note::\n",
      " |          This method modifies the module in-place.\n",
      " |      \n",
      " |      Returns:\n",
      " |          Module: self\n",
      " |  \n",
      " |  buffers(self, recurse: bool = True) -> Iterator[torch.Tensor]\n",
      " |      Return an iterator over module buffers.\n",
      " |      \n",
      " |      Args:\n",
      " |          recurse (bool): if True, then yields buffers of this module\n",
      " |              and all submodules. Otherwise, yields only buffers that\n",
      " |              are direct members of this module.\n",
      " |      \n",
      " |      Yields:\n",
      " |          torch.Tensor: module buffer\n",
      " |      \n",
      " |      Example::\n",
      " |      \n",
      " |          >>> # xdoctest: +SKIP(\"undefined vars\")\n",
      " |          >>> for buf in model.buffers():\n",
      " |          >>>     print(type(buf), buf.size())\n",
      " |          <class 'torch.Tensor'> (20L,)\n",
      " |          <class 'torch.Tensor'> (20L, 1L, 5L, 5L)\n",
      " |  \n",
      " |  children(self) -> Iterator[ForwardRef('Module')]\n",
      " |      Return an iterator over immediate children modules.\n",
      " |      \n",
      " |      Yields:\n",
      " |          Module: a child module\n",
      " |  \n",
      " |  compile(self, *args, **kwargs)\n",
      " |      Compile this Module's forward using :func:`torch.compile`.\n",
      " |      \n",
      " |      This Module's `__call__` method is compiled and all arguments are passed as-is\n",
      " |      to :func:`torch.compile`.\n",
      " |      \n",
      " |      See :func:`torch.compile` for details on the arguments for this function.\n",
      " |  \n",
      " |  cpu(self: ~T) -> ~T\n",
      " |      Move all model parameters and buffers to the CPU.\n",
      " |      \n",
      " |      .. note::\n",
      " |          This method modifies the module in-place.\n",
      " |      \n",
      " |      Returns:\n",
      " |          Module: self\n",
      " |  \n",
      " |  cuda(self: ~T, device: Union[int, torch.device, NoneType] = None) -> ~T\n",
      " |      Move all model parameters and buffers to the GPU.\n",
      " |      \n",
      " |      This also makes associated parameters and buffers different objects. So\n",
      " |      it should be called before constructing optimizer if the module will\n",
      " |      live on GPU while being optimized.\n",
      " |      \n",
      " |      .. note::\n",
      " |          This method modifies the module in-place.\n",
      " |      \n",
      " |      Args:\n",
      " |          device (int, optional): if specified, all parameters will be\n",
      " |              copied to that device\n",
      " |      \n",
      " |      Returns:\n",
      " |          Module: self\n",
      " |  \n",
      " |  double(self: ~T) -> ~T\n",
      " |      Casts all floating point parameters and buffers to ``double`` datatype.\n",
      " |      \n",
      " |      .. note::\n",
      " |          This method modifies the module in-place.\n",
      " |      \n",
      " |      Returns:\n",
      " |          Module: self\n",
      " |  \n",
      " |  eval(self: ~T) -> ~T\n",
      " |      Set the module in evaluation mode.\n",
      " |      \n",
      " |      This has any effect only on certain modules. See documentations of\n",
      " |      particular modules for details of their behaviors in training/evaluation\n",
      " |      mode, if they are affected, e.g. :class:`Dropout`, :class:`BatchNorm`,\n",
      " |      etc.\n",
      " |      \n",
      " |      This is equivalent with :meth:`self.train(False) <torch.nn.Module.train>`.\n",
      " |      \n",
      " |      See :ref:`locally-disable-grad-doc` for a comparison between\n",
      " |      `.eval()` and several similar mechanisms that may be confused with it.\n",
      " |      \n",
      " |      Returns:\n",
      " |          Module: self\n",
      " |  \n",
      " |  float(self: ~T) -> ~T\n",
      " |      Casts all floating point parameters and buffers to ``float`` datatype.\n",
      " |      \n",
      " |      .. note::\n",
      " |          This method modifies the module in-place.\n",
      " |      \n",
      " |      Returns:\n",
      " |          Module: self\n",
      " |  \n",
      " |  get_buffer(self, target: str) -> 'Tensor'\n",
      " |      Return the buffer given by ``target`` if it exists, otherwise throw an error.\n",
      " |      \n",
      " |      See the docstring for ``get_submodule`` for a more detailed\n",
      " |      explanation of this method's functionality as well as how to\n",
      " |      correctly specify ``target``.\n",
      " |      \n",
      " |      Args:\n",
      " |          target: The fully-qualified string name of the buffer\n",
      " |              to look for. (See ``get_submodule`` for how to specify a\n",
      " |              fully-qualified string.)\n",
      " |      \n",
      " |      Returns:\n",
      " |          torch.Tensor: The buffer referenced by ``target``\n",
      " |      \n",
      " |      Raises:\n",
      " |          AttributeError: If the target string references an invalid\n",
      " |              path or resolves to something that is not a\n",
      " |              buffer\n",
      " |  \n",
      " |  get_extra_state(self) -> Any\n",
      " |      Return any extra state to include in the module's state_dict.\n",
      " |      \n",
      " |      Implement this and a corresponding :func:`set_extra_state` for your module\n",
      " |      if you need to store extra state. This function is called when building the\n",
      " |      module's `state_dict()`.\n",
      " |      \n",
      " |      Note that extra state should be picklable to ensure working serialization\n",
      " |      of the state_dict. We only provide provide backwards compatibility guarantees\n",
      " |      for serializing Tensors; other objects may break backwards compatibility if\n",
      " |      their serialized pickled form changes.\n",
      " |      \n",
      " |      Returns:\n",
      " |          object: Any extra state to store in the module's state_dict\n",
      " |  \n",
      " |  get_parameter(self, target: str) -> 'Parameter'\n",
      " |      Return the parameter given by ``target`` if it exists, otherwise throw an error.\n",
      " |      \n",
      " |      See the docstring for ``get_submodule`` for a more detailed\n",
      " |      explanation of this method's functionality as well as how to\n",
      " |      correctly specify ``target``.\n",
      " |      \n",
      " |      Args:\n",
      " |          target: The fully-qualified string name of the Parameter\n",
      " |              to look for. (See ``get_submodule`` for how to specify a\n",
      " |              fully-qualified string.)\n",
      " |      \n",
      " |      Returns:\n",
      " |          torch.nn.Parameter: The Parameter referenced by ``target``\n",
      " |      \n",
      " |      Raises:\n",
      " |          AttributeError: If the target string references an invalid\n",
      " |              path or resolves to something that is not an\n",
      " |              ``nn.Parameter``\n",
      " |  \n",
      " |  get_submodule(self, target: str) -> 'Module'\n",
      " |      Return the submodule given by ``target`` if it exists, otherwise throw an error.\n",
      " |      \n",
      " |      For example, let's say you have an ``nn.Module`` ``A`` that\n",
      " |      looks like this:\n",
      " |      \n",
      " |      .. code-block:: text\n",
      " |      \n",
      " |          A(\n",
      " |              (net_b): Module(\n",
      " |                  (net_c): Module(\n",
      " |                      (conv): Conv2d(16, 33, kernel_size=(3, 3), stride=(2, 2))\n",
      " |                  )\n",
      " |                  (linear): Linear(in_features=100, out_features=200, bias=True)\n",
      " |              )\n",
      " |          )\n",
      " |      \n",
      " |      (The diagram shows an ``nn.Module`` ``A``. ``A`` has a nested\n",
      " |      submodule ``net_b``, which itself has two submodules ``net_c``\n",
      " |      and ``linear``. ``net_c`` then has a submodule ``conv``.)\n",
      " |      \n",
      " |      To check whether or not we have the ``linear`` submodule, we\n",
      " |      would call ``get_submodule(\"net_b.linear\")``. To check whether\n",
      " |      we have the ``conv`` submodule, we would call\n",
      " |      ``get_submodule(\"net_b.net_c.conv\")``.\n",
      " |      \n",
      " |      The runtime of ``get_submodule`` is bounded by the degree\n",
      " |      of module nesting in ``target``. A query against\n",
      " |      ``named_modules`` achieves the same result, but it is O(N) in\n",
      " |      the number of transitive modules. So, for a simple check to see\n",
      " |      if some submodule exists, ``get_submodule`` should always be\n",
      " |      used.\n",
      " |      \n",
      " |      Args:\n",
      " |          target: The fully-qualified string name of the submodule\n",
      " |              to look for. (See above example for how to specify a\n",
      " |              fully-qualified string.)\n",
      " |      \n",
      " |      Returns:\n",
      " |          torch.nn.Module: The submodule referenced by ``target``\n",
      " |      \n",
      " |      Raises:\n",
      " |          AttributeError: If the target string references an invalid\n",
      " |              path or resolves to something that is not an\n",
      " |              ``nn.Module``\n",
      " |  \n",
      " |  half(self: ~T) -> ~T\n",
      " |      Casts all floating point parameters and buffers to ``half`` datatype.\n",
      " |      \n",
      " |      .. note::\n",
      " |          This method modifies the module in-place.\n",
      " |      \n",
      " |      Returns:\n",
      " |          Module: self\n",
      " |  \n",
      " |  ipu(self: ~T, device: Union[int, torch.device, NoneType] = None) -> ~T\n",
      " |      Move all model parameters and buffers to the IPU.\n",
      " |      \n",
      " |      This also makes associated parameters and buffers different objects. So\n",
      " |      it should be called before constructing optimizer if the module will\n",
      " |      live on IPU while being optimized.\n",
      " |      \n",
      " |      .. note::\n",
      " |          This method modifies the module in-place.\n",
      " |      \n",
      " |      Arguments:\n",
      " |          device (int, optional): if specified, all parameters will be\n",
      " |              copied to that device\n",
      " |      \n",
      " |      Returns:\n",
      " |          Module: self\n",
      " |  \n",
      " |  load_state_dict(self, state_dict: Mapping[str, Any], strict: bool = True, assign: bool = False)\n",
      " |      Copy parameters and buffers from :attr:`state_dict` into this module and its descendants.\n",
      " |      \n",
      " |      If :attr:`strict` is ``True``, then\n",
      " |      the keys of :attr:`state_dict` must exactly match the keys returned\n",
      " |      by this module's :meth:`~torch.nn.Module.state_dict` function.\n",
      " |      \n",
      " |      .. warning::\n",
      " |          If :attr:`assign` is ``True`` the optimizer must be created after\n",
      " |          the call to :attr:`load_state_dict`.\n",
      " |      \n",
      " |      Args:\n",
      " |          state_dict (dict): a dict containing parameters and\n",
      " |              persistent buffers.\n",
      " |          strict (bool, optional): whether to strictly enforce that the keys\n",
      " |              in :attr:`state_dict` match the keys returned by this module's\n",
      " |              :meth:`~torch.nn.Module.state_dict` function. Default: ``True``\n",
      " |          assign (bool, optional): whether to assign items in the state\n",
      " |              dictionary to their corresponding keys in the module instead\n",
      " |              of copying them inplace into the module's current parameters and buffers.\n",
      " |              When ``False``, the properties of the tensors in the current\n",
      " |              module are preserved while when ``True``, the properties of the\n",
      " |              Tensors in the state dict are preserved.\n",
      " |              Default: ``False``\n",
      " |      \n",
      " |      Returns:\n",
      " |          ``NamedTuple`` with ``missing_keys`` and ``unexpected_keys`` fields:\n",
      " |              * **missing_keys** is a list of str containing the missing keys\n",
      " |              * **unexpected_keys** is a list of str containing the unexpected keys\n",
      " |      \n",
      " |      Note:\n",
      " |          If a parameter or buffer is registered as ``None`` and its corresponding key\n",
      " |          exists in :attr:`state_dict`, :meth:`load_state_dict` will raise a\n",
      " |          ``RuntimeError``.\n",
      " |  \n",
      " |  modules(self) -> Iterator[ForwardRef('Module')]\n",
      " |      Return an iterator over all modules in the network.\n",
      " |      \n",
      " |      Yields:\n",
      " |          Module: a module in the network\n",
      " |      \n",
      " |      Note:\n",
      " |          Duplicate modules are returned only once. In the following\n",
      " |          example, ``l`` will be returned only once.\n",
      " |      \n",
      " |      Example::\n",
      " |      \n",
      " |          >>> l = nn.Linear(2, 2)\n",
      " |          >>> net = nn.Sequential(l, l)\n",
      " |          >>> for idx, m in enumerate(net.modules()):\n",
      " |          ...     print(idx, '->', m)\n",
      " |      \n",
      " |          0 -> Sequential(\n",
      " |            (0): Linear(in_features=2, out_features=2, bias=True)\n",
      " |            (1): Linear(in_features=2, out_features=2, bias=True)\n",
      " |          )\n",
      " |          1 -> Linear(in_features=2, out_features=2, bias=True)\n",
      " |  \n",
      " |  named_buffers(self, prefix: str = '', recurse: bool = True, remove_duplicate: bool = True) -> Iterator[Tuple[str, torch.Tensor]]\n",
      " |      Return an iterator over module buffers, yielding both the name of the buffer as well as the buffer itself.\n",
      " |      \n",
      " |      Args:\n",
      " |          prefix (str): prefix to prepend to all buffer names.\n",
      " |          recurse (bool, optional): if True, then yields buffers of this module\n",
      " |              and all submodules. Otherwise, yields only buffers that\n",
      " |              are direct members of this module. Defaults to True.\n",
      " |          remove_duplicate (bool, optional): whether to remove the duplicated buffers in the result. Defaults to True.\n",
      " |      \n",
      " |      Yields:\n",
      " |          (str, torch.Tensor): Tuple containing the name and buffer\n",
      " |      \n",
      " |      Example::\n",
      " |      \n",
      " |          >>> # xdoctest: +SKIP(\"undefined vars\")\n",
      " |          >>> for name, buf in self.named_buffers():\n",
      " |          >>>     if name in ['running_var']:\n",
      " |          >>>         print(buf.size())\n",
      " |  \n",
      " |  named_children(self) -> Iterator[Tuple[str, ForwardRef('Module')]]\n",
      " |      Return an iterator over immediate children modules, yielding both the name of the module as well as the module itself.\n",
      " |      \n",
      " |      Yields:\n",
      " |          (str, Module): Tuple containing a name and child module\n",
      " |      \n",
      " |      Example::\n",
      " |      \n",
      " |          >>> # xdoctest: +SKIP(\"undefined vars\")\n",
      " |          >>> for name, module in model.named_children():\n",
      " |          >>>     if name in ['conv4', 'conv5']:\n",
      " |          >>>         print(module)\n",
      " |  \n",
      " |  named_modules(self, memo: Optional[Set[ForwardRef('Module')]] = None, prefix: str = '', remove_duplicate: bool = True)\n",
      " |      Return an iterator over all modules in the network, yielding both the name of the module as well as the module itself.\n",
      " |      \n",
      " |      Args:\n",
      " |          memo: a memo to store the set of modules already added to the result\n",
      " |          prefix: a prefix that will be added to the name of the module\n",
      " |          remove_duplicate: whether to remove the duplicated module instances in the result\n",
      " |              or not\n",
      " |      \n",
      " |      Yields:\n",
      " |          (str, Module): Tuple of name and module\n",
      " |      \n",
      " |      Note:\n",
      " |          Duplicate modules are returned only once. In the following\n",
      " |          example, ``l`` will be returned only once.\n",
      " |      \n",
      " |      Example::\n",
      " |      \n",
      " |          >>> l = nn.Linear(2, 2)\n",
      " |          >>> net = nn.Sequential(l, l)\n",
      " |          >>> for idx, m in enumerate(net.named_modules()):\n",
      " |          ...     print(idx, '->', m)\n",
      " |      \n",
      " |          0 -> ('', Sequential(\n",
      " |            (0): Linear(in_features=2, out_features=2, bias=True)\n",
      " |            (1): Linear(in_features=2, out_features=2, bias=True)\n",
      " |          ))\n",
      " |          1 -> ('0', Linear(in_features=2, out_features=2, bias=True))\n",
      " |  \n",
      " |  named_parameters(self, prefix: str = '', recurse: bool = True, remove_duplicate: bool = True) -> Iterator[Tuple[str, torch.nn.parameter.Parameter]]\n",
      " |      Return an iterator over module parameters, yielding both the name of the parameter as well as the parameter itself.\n",
      " |      \n",
      " |      Args:\n",
      " |          prefix (str): prefix to prepend to all parameter names.\n",
      " |          recurse (bool): if True, then yields parameters of this module\n",
      " |              and all submodules. Otherwise, yields only parameters that\n",
      " |              are direct members of this module.\n",
      " |          remove_duplicate (bool, optional): whether to remove the duplicated\n",
      " |              parameters in the result. Defaults to True.\n",
      " |      \n",
      " |      Yields:\n",
      " |          (str, Parameter): Tuple containing the name and parameter\n",
      " |      \n",
      " |      Example::\n",
      " |      \n",
      " |          >>> # xdoctest: +SKIP(\"undefined vars\")\n",
      " |          >>> for name, param in self.named_parameters():\n",
      " |          >>>     if name in ['bias']:\n",
      " |          >>>         print(param.size())\n",
      " |  \n",
      " |  parameters(self, recurse: bool = True) -> Iterator[torch.nn.parameter.Parameter]\n",
      " |      Return an iterator over module parameters.\n",
      " |      \n",
      " |      This is typically passed to an optimizer.\n",
      " |      \n",
      " |      Args:\n",
      " |          recurse (bool): if True, then yields parameters of this module\n",
      " |              and all submodules. Otherwise, yields only parameters that\n",
      " |              are direct members of this module.\n",
      " |      \n",
      " |      Yields:\n",
      " |          Parameter: module parameter\n",
      " |      \n",
      " |      Example::\n",
      " |      \n",
      " |          >>> # xdoctest: +SKIP(\"undefined vars\")\n",
      " |          >>> for param in model.parameters():\n",
      " |          >>>     print(type(param), param.size())\n",
      " |          <class 'torch.Tensor'> (20L,)\n",
      " |          <class 'torch.Tensor'> (20L, 1L, 5L, 5L)\n",
      " |  \n",
      " |  register_backward_hook(self, hook: Callable[[ForwardRef('Module'), Union[Tuple[torch.Tensor, ...], torch.Tensor], Union[Tuple[torch.Tensor, ...], torch.Tensor]], Union[NoneType, Tuple[torch.Tensor, ...], torch.Tensor]]) -> torch.utils.hooks.RemovableHandle\n",
      " |      Register a backward hook on the module.\n",
      " |      \n",
      " |      This function is deprecated in favor of :meth:`~torch.nn.Module.register_full_backward_hook` and\n",
      " |      the behavior of this function will change in future versions.\n",
      " |      \n",
      " |      Returns:\n",
      " |          :class:`torch.utils.hooks.RemovableHandle`:\n",
      " |              a handle that can be used to remove the added hook by calling\n",
      " |              ``handle.remove()``\n",
      " |  \n",
      " |  register_buffer(self, name: str, tensor: Optional[torch.Tensor], persistent: bool = True) -> None\n",
      " |      Add a buffer to the module.\n",
      " |      \n",
      " |      This is typically used to register a buffer that should not to be\n",
      " |      considered a model parameter. For example, BatchNorm's ``running_mean``\n",
      " |      is not a parameter, but is part of the module's state. Buffers, by\n",
      " |      default, are persistent and will be saved alongside parameters. This\n",
      " |      behavior can be changed by setting :attr:`persistent` to ``False``. The\n",
      " |      only difference between a persistent buffer and a non-persistent buffer\n",
      " |      is that the latter will not be a part of this module's\n",
      " |      :attr:`state_dict`.\n",
      " |      \n",
      " |      Buffers can be accessed as attributes using given names.\n",
      " |      \n",
      " |      Args:\n",
      " |          name (str): name of the buffer. The buffer can be accessed\n",
      " |              from this module using the given name\n",
      " |          tensor (Tensor or None): buffer to be registered. If ``None``, then operations\n",
      " |              that run on buffers, such as :attr:`cuda`, are ignored. If ``None``,\n",
      " |              the buffer is **not** included in the module's :attr:`state_dict`.\n",
      " |          persistent (bool): whether the buffer is part of this module's\n",
      " |              :attr:`state_dict`.\n",
      " |      \n",
      " |      Example::\n",
      " |      \n",
      " |          >>> # xdoctest: +SKIP(\"undefined vars\")\n",
      " |          >>> self.register_buffer('running_mean', torch.zeros(num_features))\n",
      " |  \n",
      " |  register_forward_hook(self, hook: Union[Callable[[~T, Tuple[Any, ...], Any], Optional[Any]], Callable[[~T, Tuple[Any, ...], Dict[str, Any], Any], Optional[Any]]], *, prepend: bool = False, with_kwargs: bool = False, always_call: bool = False) -> torch.utils.hooks.RemovableHandle\n",
      " |      Register a forward hook on the module.\n",
      " |      \n",
      " |      The hook will be called every time after :func:`forward` has computed an output.\n",
      " |      \n",
      " |      If ``with_kwargs`` is ``False`` or not specified, the input contains only\n",
      " |      the positional arguments given to the module. Keyword arguments won't be\n",
      " |      passed to the hooks and only to the ``forward``. The hook can modify the\n",
      " |      output. It can modify the input inplace but it will not have effect on\n",
      " |      forward since this is called after :func:`forward` is called. The hook\n",
      " |      should have the following signature::\n",
      " |      \n",
      " |          hook(module, args, output) -> None or modified output\n",
      " |      \n",
      " |      If ``with_kwargs`` is ``True``, the forward hook will be passed the\n",
      " |      ``kwargs`` given to the forward function and be expected to return the\n",
      " |      output possibly modified. The hook should have the following signature::\n",
      " |      \n",
      " |          hook(module, args, kwargs, output) -> None or modified output\n",
      " |      \n",
      " |      Args:\n",
      " |          hook (Callable): The user defined hook to be registered.\n",
      " |          prepend (bool): If ``True``, the provided ``hook`` will be fired\n",
      " |              before all existing ``forward`` hooks on this\n",
      " |              :class:`torch.nn.modules.Module`. Otherwise, the provided\n",
      " |              ``hook`` will be fired after all existing ``forward`` hooks on\n",
      " |              this :class:`torch.nn.modules.Module`. Note that global\n",
      " |              ``forward`` hooks registered with\n",
      " |              :func:`register_module_forward_hook` will fire before all hooks\n",
      " |              registered by this method.\n",
      " |              Default: ``False``\n",
      " |          with_kwargs (bool): If ``True``, the ``hook`` will be passed the\n",
      " |              kwargs given to the forward function.\n",
      " |              Default: ``False``\n",
      " |          always_call (bool): If ``True`` the ``hook`` will be run regardless of\n",
      " |              whether an exception is raised while calling the Module.\n",
      " |              Default: ``False``\n",
      " |      \n",
      " |      Returns:\n",
      " |          :class:`torch.utils.hooks.RemovableHandle`:\n",
      " |              a handle that can be used to remove the added hook by calling\n",
      " |              ``handle.remove()``\n",
      " |  \n",
      " |  register_forward_pre_hook(self, hook: Union[Callable[[~T, Tuple[Any, ...]], Optional[Any]], Callable[[~T, Tuple[Any, ...], Dict[str, Any]], Optional[Tuple[Any, Dict[str, Any]]]]], *, prepend: bool = False, with_kwargs: bool = False) -> torch.utils.hooks.RemovableHandle\n",
      " |      Register a forward pre-hook on the module.\n",
      " |      \n",
      " |      The hook will be called every time before :func:`forward` is invoked.\n",
      " |      \n",
      " |      \n",
      " |      If ``with_kwargs`` is false or not specified, the input contains only\n",
      " |      the positional arguments given to the module. Keyword arguments won't be\n",
      " |      passed to the hooks and only to the ``forward``. The hook can modify the\n",
      " |      input. User can either return a tuple or a single modified value in the\n",
      " |      hook. We will wrap the value into a tuple if a single value is returned\n",
      " |      (unless that value is already a tuple). The hook should have the\n",
      " |      following signature::\n",
      " |      \n",
      " |          hook(module, args) -> None or modified input\n",
      " |      \n",
      " |      If ``with_kwargs`` is true, the forward pre-hook will be passed the\n",
      " |      kwargs given to the forward function. And if the hook modifies the\n",
      " |      input, both the args and kwargs should be returned. The hook should have\n",
      " |      the following signature::\n",
      " |      \n",
      " |          hook(module, args, kwargs) -> None or a tuple of modified input and kwargs\n",
      " |      \n",
      " |      Args:\n",
      " |          hook (Callable): The user defined hook to be registered.\n",
      " |          prepend (bool): If true, the provided ``hook`` will be fired before\n",
      " |              all existing ``forward_pre`` hooks on this\n",
      " |              :class:`torch.nn.modules.Module`. Otherwise, the provided\n",
      " |              ``hook`` will be fired after all existing ``forward_pre`` hooks\n",
      " |              on this :class:`torch.nn.modules.Module`. Note that global\n",
      " |              ``forward_pre`` hooks registered with\n",
      " |              :func:`register_module_forward_pre_hook` will fire before all\n",
      " |              hooks registered by this method.\n",
      " |              Default: ``False``\n",
      " |          with_kwargs (bool): If true, the ``hook`` will be passed the kwargs\n",
      " |              given to the forward function.\n",
      " |              Default: ``False``\n",
      " |      \n",
      " |      Returns:\n",
      " |          :class:`torch.utils.hooks.RemovableHandle`:\n",
      " |              a handle that can be used to remove the added hook by calling\n",
      " |              ``handle.remove()``\n",
      " |  \n",
      " |  register_full_backward_hook(self, hook: Callable[[ForwardRef('Module'), Union[Tuple[torch.Tensor, ...], torch.Tensor], Union[Tuple[torch.Tensor, ...], torch.Tensor]], Union[NoneType, Tuple[torch.Tensor, ...], torch.Tensor]], prepend: bool = False) -> torch.utils.hooks.RemovableHandle\n",
      " |      Register a backward hook on the module.\n",
      " |      \n",
      " |      The hook will be called every time the gradients with respect to a module\n",
      " |      are computed, i.e. the hook will execute if and only if the gradients with\n",
      " |      respect to module outputs are computed. The hook should have the following\n",
      " |      signature::\n",
      " |      \n",
      " |          hook(module, grad_input, grad_output) -> tuple(Tensor) or None\n",
      " |      \n",
      " |      The :attr:`grad_input` and :attr:`grad_output` are tuples that contain the gradients\n",
      " |      with respect to the inputs and outputs respectively. The hook should\n",
      " |      not modify its arguments, but it can optionally return a new gradient with\n",
      " |      respect to the input that will be used in place of :attr:`grad_input` in\n",
      " |      subsequent computations. :attr:`grad_input` will only correspond to the inputs given\n",
      " |      as positional arguments and all kwarg arguments are ignored. Entries\n",
      " |      in :attr:`grad_input` and :attr:`grad_output` will be ``None`` for all non-Tensor\n",
      " |      arguments.\n",
      " |      \n",
      " |      For technical reasons, when this hook is applied to a Module, its forward function will\n",
      " |      receive a view of each Tensor passed to the Module. Similarly the caller will receive a view\n",
      " |      of each Tensor returned by the Module's forward function.\n",
      " |      \n",
      " |      .. warning ::\n",
      " |          Modifying inputs or outputs inplace is not allowed when using backward hooks and\n",
      " |          will raise an error.\n",
      " |      \n",
      " |      Args:\n",
      " |          hook (Callable): The user-defined hook to be registered.\n",
      " |          prepend (bool): If true, the provided ``hook`` will be fired before\n",
      " |              all existing ``backward`` hooks on this\n",
      " |              :class:`torch.nn.modules.Module`. Otherwise, the provided\n",
      " |              ``hook`` will be fired after all existing ``backward`` hooks on\n",
      " |              this :class:`torch.nn.modules.Module`. Note that global\n",
      " |              ``backward`` hooks registered with\n",
      " |              :func:`register_module_full_backward_hook` will fire before\n",
      " |              all hooks registered by this method.\n",
      " |      \n",
      " |      Returns:\n",
      " |          :class:`torch.utils.hooks.RemovableHandle`:\n",
      " |              a handle that can be used to remove the added hook by calling\n",
      " |              ``handle.remove()``\n",
      " |  \n",
      " |  register_full_backward_pre_hook(self, hook: Callable[[ForwardRef('Module'), Union[Tuple[torch.Tensor, ...], torch.Tensor]], Union[NoneType, Tuple[torch.Tensor, ...], torch.Tensor]], prepend: bool = False) -> torch.utils.hooks.RemovableHandle\n",
      " |      Register a backward pre-hook on the module.\n",
      " |      \n",
      " |      The hook will be called every time the gradients for the module are computed.\n",
      " |      The hook should have the following signature::\n",
      " |      \n",
      " |          hook(module, grad_output) -> tuple[Tensor] or None\n",
      " |      \n",
      " |      The :attr:`grad_output` is a tuple. The hook should\n",
      " |      not modify its arguments, but it can optionally return a new gradient with\n",
      " |      respect to the output that will be used in place of :attr:`grad_output` in\n",
      " |      subsequent computations. Entries in :attr:`grad_output` will be ``None`` for\n",
      " |      all non-Tensor arguments.\n",
      " |      \n",
      " |      For technical reasons, when this hook is applied to a Module, its forward function will\n",
      " |      receive a view of each Tensor passed to the Module. Similarly the caller will receive a view\n",
      " |      of each Tensor returned by the Module's forward function.\n",
      " |      \n",
      " |      .. warning ::\n",
      " |          Modifying inputs inplace is not allowed when using backward hooks and\n",
      " |          will raise an error.\n",
      " |      \n",
      " |      Args:\n",
      " |          hook (Callable): The user-defined hook to be registered.\n",
      " |          prepend (bool): If true, the provided ``hook`` will be fired before\n",
      " |              all existing ``backward_pre`` hooks on this\n",
      " |              :class:`torch.nn.modules.Module`. Otherwise, the provided\n",
      " |              ``hook`` will be fired after all existing ``backward_pre`` hooks\n",
      " |              on this :class:`torch.nn.modules.Module`. Note that global\n",
      " |              ``backward_pre`` hooks registered with\n",
      " |              :func:`register_module_full_backward_pre_hook` will fire before\n",
      " |              all hooks registered by this method.\n",
      " |      \n",
      " |      Returns:\n",
      " |          :class:`torch.utils.hooks.RemovableHandle`:\n",
      " |              a handle that can be used to remove the added hook by calling\n",
      " |              ``handle.remove()``\n",
      " |  \n",
      " |  register_load_state_dict_post_hook(self, hook)\n",
      " |      Register a post hook to be run after module's ``load_state_dict`` is called.\n",
      " |      \n",
      " |      It should have the following signature::\n",
      " |          hook(module, incompatible_keys) -> None\n",
      " |      \n",
      " |      The ``module`` argument is the current module that this hook is registered\n",
      " |      on, and the ``incompatible_keys`` argument is a ``NamedTuple`` consisting\n",
      " |      of attributes ``missing_keys`` and ``unexpected_keys``. ``missing_keys``\n",
      " |      is a ``list`` of ``str`` containing the missing keys and\n",
      " |      ``unexpected_keys`` is a ``list`` of ``str`` containing the unexpected keys.\n",
      " |      \n",
      " |      The given incompatible_keys can be modified inplace if needed.\n",
      " |      \n",
      " |      Note that the checks performed when calling :func:`load_state_dict` with\n",
      " |      ``strict=True`` are affected by modifications the hook makes to\n",
      " |      ``missing_keys`` or ``unexpected_keys``, as expected. Additions to either\n",
      " |      set of keys will result in an error being thrown when ``strict=True``, and\n",
      " |      clearing out both missing and unexpected keys will avoid an error.\n",
      " |      \n",
      " |      Returns:\n",
      " |          :class:`torch.utils.hooks.RemovableHandle`:\n",
      " |              a handle that can be used to remove the added hook by calling\n",
      " |              ``handle.remove()``\n",
      " |  \n",
      " |  register_module(self, name: str, module: Optional[ForwardRef('Module')]) -> None\n",
      " |      Alias for :func:`add_module`.\n",
      " |  \n",
      " |  register_parameter(self, name: str, param: Optional[torch.nn.parameter.Parameter]) -> None\n",
      " |      Add a parameter to the module.\n",
      " |      \n",
      " |      The parameter can be accessed as an attribute using given name.\n",
      " |      \n",
      " |      Args:\n",
      " |          name (str): name of the parameter. The parameter can be accessed\n",
      " |              from this module using the given name\n",
      " |          param (Parameter or None): parameter to be added to the module. If\n",
      " |              ``None``, then operations that run on parameters, such as :attr:`cuda`,\n",
      " |              are ignored. If ``None``, the parameter is **not** included in the\n",
      " |              module's :attr:`state_dict`.\n",
      " |  \n",
      " |  register_state_dict_pre_hook(self, hook)\n",
      " |      Register a pre-hook for the :meth:`~torch.nn.Module.load_state_dict` method.\n",
      " |      \n",
      " |      These hooks will be called with arguments: ``self``, ``prefix``,\n",
      " |      and ``keep_vars`` before calling ``state_dict`` on ``self``. The registered\n",
      " |      hooks can be used to perform pre-processing before the ``state_dict``\n",
      " |      call is made.\n",
      " |  \n",
      " |  requires_grad_(self: ~T, requires_grad: bool = True) -> ~T\n",
      " |      Change if autograd should record operations on parameters in this module.\n",
      " |      \n",
      " |      This method sets the parameters' :attr:`requires_grad` attributes\n",
      " |      in-place.\n",
      " |      \n",
      " |      This method is helpful for freezing part of the module for finetuning\n",
      " |      or training parts of a model individually (e.g., GAN training).\n",
      " |      \n",
      " |      See :ref:`locally-disable-grad-doc` for a comparison between\n",
      " |      `.requires_grad_()` and several similar mechanisms that may be confused with it.\n",
      " |      \n",
      " |      Args:\n",
      " |          requires_grad (bool): whether autograd should record operations on\n",
      " |                                parameters in this module. Default: ``True``.\n",
      " |      \n",
      " |      Returns:\n",
      " |          Module: self\n",
      " |  \n",
      " |  set_extra_state(self, state: Any)\n",
      " |      Set extra state contained in the loaded `state_dict`.\n",
      " |      \n",
      " |      This function is called from :func:`load_state_dict` to handle any extra state\n",
      " |      found within the `state_dict`. Implement this function and a corresponding\n",
      " |      :func:`get_extra_state` for your module if you need to store extra state within its\n",
      " |      `state_dict`.\n",
      " |      \n",
      " |      Args:\n",
      " |          state (dict): Extra state from the `state_dict`\n",
      " |  \n",
      " |  share_memory(self: ~T) -> ~T\n",
      " |      See :meth:`torch.Tensor.share_memory_`.\n",
      " |  \n",
      " |  state_dict(self, *args, destination=None, prefix='', keep_vars=False)\n",
      " |      Return a dictionary containing references to the whole state of the module.\n",
      " |      \n",
      " |      Both parameters and persistent buffers (e.g. running averages) are\n",
      " |      included. Keys are corresponding parameter and buffer names.\n",
      " |      Parameters and buffers set to ``None`` are not included.\n",
      " |      \n",
      " |      .. note::\n",
      " |          The returned object is a shallow copy. It contains references\n",
      " |          to the module's parameters and buffers.\n",
      " |      \n",
      " |      .. warning::\n",
      " |          Currently ``state_dict()`` also accepts positional arguments for\n",
      " |          ``destination``, ``prefix`` and ``keep_vars`` in order. However,\n",
      " |          this is being deprecated and keyword arguments will be enforced in\n",
      " |          future releases.\n",
      " |      \n",
      " |      .. warning::\n",
      " |          Please avoid the use of argument ``destination`` as it is not\n",
      " |          designed for end-users.\n",
      " |      \n",
      " |      Args:\n",
      " |          destination (dict, optional): If provided, the state of module will\n",
      " |              be updated into the dict and the same object is returned.\n",
      " |              Otherwise, an ``OrderedDict`` will be created and returned.\n",
      " |              Default: ``None``.\n",
      " |          prefix (str, optional): a prefix added to parameter and buffer\n",
      " |              names to compose the keys in state_dict. Default: ``''``.\n",
      " |          keep_vars (bool, optional): by default the :class:`~torch.Tensor` s\n",
      " |              returned in the state dict are detached from autograd. If it's\n",
      " |              set to ``True``, detaching will not be performed.\n",
      " |              Default: ``False``.\n",
      " |      \n",
      " |      Returns:\n",
      " |          dict:\n",
      " |              a dictionary containing a whole state of the module\n",
      " |      \n",
      " |      Example::\n",
      " |      \n",
      " |          >>> # xdoctest: +SKIP(\"undefined vars\")\n",
      " |          >>> module.state_dict().keys()\n",
      " |          ['bias', 'weight']\n",
      " |  \n",
      " |  to(self, *args, **kwargs)\n",
      " |      Move and/or cast the parameters and buffers.\n",
      " |      \n",
      " |      This can be called as\n",
      " |      \n",
      " |      .. function:: to(device=None, dtype=None, non_blocking=False)\n",
      " |         :noindex:\n",
      " |      \n",
      " |      .. function:: to(dtype, non_blocking=False)\n",
      " |         :noindex:\n",
      " |      \n",
      " |      .. function:: to(tensor, non_blocking=False)\n",
      " |         :noindex:\n",
      " |      \n",
      " |      .. function:: to(memory_format=torch.channels_last)\n",
      " |         :noindex:\n",
      " |      \n",
      " |      Its signature is similar to :meth:`torch.Tensor.to`, but only accepts\n",
      " |      floating point or complex :attr:`dtype`\\ s. In addition, this method will\n",
      " |      only cast the floating point or complex parameters and buffers to :attr:`dtype`\n",
      " |      (if given). The integral parameters and buffers will be moved\n",
      " |      :attr:`device`, if that is given, but with dtypes unchanged. When\n",
      " |      :attr:`non_blocking` is set, it tries to convert/move asynchronously\n",
      " |      with respect to the host if possible, e.g., moving CPU Tensors with\n",
      " |      pinned memory to CUDA devices.\n",
      " |      \n",
      " |      See below for examples.\n",
      " |      \n",
      " |      .. note::\n",
      " |          This method modifies the module in-place.\n",
      " |      \n",
      " |      Args:\n",
      " |          device (:class:`torch.device`): the desired device of the parameters\n",
      " |              and buffers in this module\n",
      " |          dtype (:class:`torch.dtype`): the desired floating point or complex dtype of\n",
      " |              the parameters and buffers in this module\n",
      " |          tensor (torch.Tensor): Tensor whose dtype and device are the desired\n",
      " |              dtype and device for all parameters and buffers in this module\n",
      " |          memory_format (:class:`torch.memory_format`): the desired memory\n",
      " |              format for 4D parameters and buffers in this module (keyword\n",
      " |              only argument)\n",
      " |      \n",
      " |      Returns:\n",
      " |          Module: self\n",
      " |      \n",
      " |      Examples::\n",
      " |      \n",
      " |          >>> # xdoctest: +IGNORE_WANT(\"non-deterministic\")\n",
      " |          >>> linear = nn.Linear(2, 2)\n",
      " |          >>> linear.weight\n",
      " |          Parameter containing:\n",
      " |          tensor([[ 0.1913, -0.3420],\n",
      " |                  [-0.5113, -0.2325]])\n",
      " |          >>> linear.to(torch.double)\n",
      " |          Linear(in_features=2, out_features=2, bias=True)\n",
      " |          >>> linear.weight\n",
      " |          Parameter containing:\n",
      " |          tensor([[ 0.1913, -0.3420],\n",
      " |                  [-0.5113, -0.2325]], dtype=torch.float64)\n",
      " |          >>> # xdoctest: +REQUIRES(env:TORCH_DOCTEST_CUDA1)\n",
      " |          >>> gpu1 = torch.device(\"cuda:1\")\n",
      " |          >>> linear.to(gpu1, dtype=torch.half, non_blocking=True)\n",
      " |          Linear(in_features=2, out_features=2, bias=True)\n",
      " |          >>> linear.weight\n",
      " |          Parameter containing:\n",
      " |          tensor([[ 0.1914, -0.3420],\n",
      " |                  [-0.5112, -0.2324]], dtype=torch.float16, device='cuda:1')\n",
      " |          >>> cpu = torch.device(\"cpu\")\n",
      " |          >>> linear.to(cpu)\n",
      " |          Linear(in_features=2, out_features=2, bias=True)\n",
      " |          >>> linear.weight\n",
      " |          Parameter containing:\n",
      " |          tensor([[ 0.1914, -0.3420],\n",
      " |                  [-0.5112, -0.2324]], dtype=torch.float16)\n",
      " |      \n",
      " |          >>> linear = nn.Linear(2, 2, bias=None).to(torch.cdouble)\n",
      " |          >>> linear.weight\n",
      " |          Parameter containing:\n",
      " |          tensor([[ 0.3741+0.j,  0.2382+0.j],\n",
      " |                  [ 0.5593+0.j, -0.4443+0.j]], dtype=torch.complex128)\n",
      " |          >>> linear(torch.ones(3, 2, dtype=torch.cdouble))\n",
      " |          tensor([[0.6122+0.j, 0.1150+0.j],\n",
      " |                  [0.6122+0.j, 0.1150+0.j],\n",
      " |                  [0.6122+0.j, 0.1150+0.j]], dtype=torch.complex128)\n",
      " |  \n",
      " |  to_empty(self: ~T, *, device: Union[int, str, torch.device, NoneType], recurse: bool = True) -> ~T\n",
      " |      Move the parameters and buffers to the specified device without copying storage.\n",
      " |      \n",
      " |      Args:\n",
      " |          device (:class:`torch.device`): The desired device of the parameters\n",
      " |              and buffers in this module.\n",
      " |          recurse (bool): Whether parameters and buffers of submodules should\n",
      " |              be recursively moved to the specified device.\n",
      " |      \n",
      " |      Returns:\n",
      " |          Module: self\n",
      " |  \n",
      " |  train(self: ~T, mode: bool = True) -> ~T\n",
      " |      Set the module in training mode.\n",
      " |      \n",
      " |      This has any effect only on certain modules. See documentations of\n",
      " |      particular modules for details of their behaviors in training/evaluation\n",
      " |      mode, if they are affected, e.g. :class:`Dropout`, :class:`BatchNorm`,\n",
      " |      etc.\n",
      " |      \n",
      " |      Args:\n",
      " |          mode (bool): whether to set training mode (``True``) or evaluation\n",
      " |                       mode (``False``). Default: ``True``.\n",
      " |      \n",
      " |      Returns:\n",
      " |          Module: self\n",
      " |  \n",
      " |  type(self: ~T, dst_type: Union[torch.dtype, str]) -> ~T\n",
      " |      Casts all parameters and buffers to :attr:`dst_type`.\n",
      " |      \n",
      " |      .. note::\n",
      " |          This method modifies the module in-place.\n",
      " |      \n",
      " |      Args:\n",
      " |          dst_type (type or string): the desired type\n",
      " |      \n",
      " |      Returns:\n",
      " |          Module: self\n",
      " |  \n",
      " |  xpu(self: ~T, device: Union[int, torch.device, NoneType] = None) -> ~T\n",
      " |      Move all model parameters and buffers to the XPU.\n",
      " |      \n",
      " |      This also makes associated parameters and buffers different objects. So\n",
      " |      it should be called before constructing optimizer if the module will\n",
      " |      live on XPU while being optimized.\n",
      " |      \n",
      " |      .. note::\n",
      " |          This method modifies the module in-place.\n",
      " |      \n",
      " |      Arguments:\n",
      " |          device (int, optional): if specified, all parameters will be\n",
      " |              copied to that device\n",
      " |      \n",
      " |      Returns:\n",
      " |          Module: self\n",
      " |  \n",
      " |  zero_grad(self, set_to_none: bool = True) -> None\n",
      " |      Reset gradients of all model parameters.\n",
      " |      \n",
      " |      See similar function under :class:`torch.optim.Optimizer` for more context.\n",
      " |      \n",
      " |      Args:\n",
      " |          set_to_none (bool): instead of setting to zero, set the grads to None.\n",
      " |              See :meth:`torch.optim.Optimizer.zero_grad` for details.\n",
      " |  \n",
      " |  ----------------------------------------------------------------------\n",
      " |  Data descriptors inherited from torch.nn.modules.module.Module:\n",
      " |  \n",
      " |  __dict__\n",
      " |      dictionary for instance variables\n",
      " |  \n",
      " |  __weakref__\n",
      " |      list of weak references to the object\n",
      " |  \n",
      " |  ----------------------------------------------------------------------\n",
      " |  Data and other attributes inherited from torch.nn.modules.module.Module:\n",
      " |  \n",
      " |  T_destination = ~T_destination\n",
      " |  \n",
      " |  call_super_init = False\n",
      " |  \n",
      " |  dump_patches = False\n",
      "\n"
     ]
    }
   ],
   "source": [
    "help(x)"
   ]
  },
  {
   "cell_type": "code",
   "execution_count": 234,
   "metadata": {},
   "outputs": [
    {
     "data": {
      "text/plain": [
       "Parameter containing:\n",
       "tensor([[-1.4347e+00, -1.2739e+00],\n",
       "        [ 7.9465e-01, -2.0081e-01],\n",
       "        [-2.7144e-01,  1.6675e+00],\n",
       "        [-4.1548e-01, -5.6256e-04],\n",
       "        [ 8.5422e-01, -9.7779e-01],\n",
       "        [ 9.2111e-01, -7.7164e-03],\n",
       "        [-6.1704e-01, -1.5862e-01],\n",
       "        [-8.7384e-01, -4.5587e-01],\n",
       "        [ 1.4968e-01, -4.9423e-01],\n",
       "        [ 9.7039e-01,  1.7180e+00]], requires_grad=True)"
      ]
     },
     "execution_count": 234,
     "metadata": {},
     "output_type": "execute_result"
    }
   ],
   "source": [
    "x.weight"
   ]
  },
  {
   "cell_type": "code",
   "execution_count": 248,
   "metadata": {},
   "outputs": [
    {
     "data": {
      "text/plain": [
       "tensor([-1.4347,  0.7946, -0.2714, -0.4155,  0.8542,  0.9211, -0.6170, -0.8738,\n",
       "         0.1497,  0.9704], grad_fn=<MvBackward0>)"
      ]
     },
     "execution_count": 248,
     "metadata": {},
     "output_type": "execute_result"
    }
   ],
   "source": [
    "x.weight@torch.tensor([1.0,0.0])"
   ]
  },
  {
   "cell_type": "code",
   "execution_count": 263,
   "metadata": {},
   "outputs": [
    {
     "name": "stdout",
     "output_type": "stream",
     "text": [
      "tensor([[ 0,  0,  1,  2,  3,  4],\n",
      "        [ 0,  1,  5,  6,  7,  8],\n",
      "        [ 0,  0,  0,  9, 10, 11],\n",
      "        [12, 13, 14, 15, 16, 17]])\n"
     ]
    }
   ],
   "source": [
    "import torch\n",
    "from torch.utils.data import DataLoader, TensorDataset\n",
    "\n",
    "# Assume vocabulary has been defined and each word has a unique index\n",
    "# Example sentences tokenized and converted to indices (manually for this example)\n",
    "data = [\n",
    "    torch.tensor([1, 2, 3, 4]),       # \"This is good\"\n",
    "    torch.tensor([1, 5, 6, 7, 8]),    # \"That was not good\"\n",
    "    torch.tensor([9, 10, 11]),        # \"Bad day\"\n",
    "    torch.tensor([12, 13, 14, 15, 16, 17]) # \"I really don't like this\"\n",
    "]\n",
    "\n",
    "# Corresponding labels for each sentence\n",
    "labels = torch.tensor([0, 2, 2, 1])  # 0=positive, 1=neutral, 2=negative\n",
    "\n",
    "# Padding the sequences to the same length (longest sequence length)\n",
    "max_length = max(len(sentence) for sentence in data)\n",
    "padded_data = torch.zeros(len(data), max_length, dtype=torch.long)\n",
    "for i, sentence in enumerate(data):\n",
    "    padded_data[i, -len(sentence):] = sentence\n",
    "print(padded_data)\n",
    "# Attention masks (1 for real tokens, 0 for padding)\n",
    "#attention_masks = torch.zeros_like(padded_data).scatter_(1, padded_data, 1)\n",
    "#attention_masks[padded_data == 0] = 0  # Explicitly zero out padding positions\n",
    "attention_masks=torch.where(padded_data==0,padded_data,1.0)\n",
    "\n",
    "# Create a TensorDataset and DataLoader\n",
    "dataset = TensorDataset(padded_data, attention_masks, labels)\n",
    "loader = DataLoader(dataset, batch_size=2, shuffle=True)\n"
   ]
  },
  {
   "cell_type": "code",
   "execution_count": 261,
   "metadata": {},
   "outputs": [
    {
     "data": {
      "text/plain": [
       "tensor([[0., 0., 1., 1., 1., 1.],\n",
       "        [0., 1., 1., 1., 1., 1.],\n",
       "        [0., 0., 0., 1., 1., 1.],\n",
       "        [1., 1., 1., 1., 1., 1.]])"
      ]
     },
     "execution_count": 261,
     "metadata": {},
     "output_type": "execute_result"
    }
   ],
   "source": [
    "torch.where(padded_data==0,padded_data,1.0)"
   ]
  },
  {
   "cell_type": "code",
   "execution_count": 262,
   "metadata": {},
   "outputs": [
    {
     "data": {
      "text/plain": [
       "tensor([[0, 0, 1, 1, 1, 1],\n",
       "        [0, 1, 1, 1, 1, 1],\n",
       "        [0, 0, 0, 1, 1, 1],\n",
       "        [1, 1, 1, 1, 1, 1]])"
      ]
     },
     "execution_count": 262,
     "metadata": {},
     "output_type": "execute_result"
    }
   ],
   "source": [
    "(padded_data!=0).long()"
   ]
  },
  {
   "cell_type": "code",
   "execution_count": 264,
   "metadata": {},
   "outputs": [
    {
     "name": "stdout",
     "output_type": "stream",
     "text": [
      "src (input IDs): \n",
      " tensor([[12, 13, 14, 15, 16, 17],\n",
      "        [ 0,  0,  1,  2,  3,  4]])\n",
      "mask (attention mask): \n",
      " tensor([[1., 1., 1., 1., 1., 1.],\n",
      "        [0., 0., 1., 1., 1., 1.]])\n",
      "labels: \n",
      " tensor([1, 0])\n"
     ]
    }
   ],
   "source": [
    "for src, mask, labels in loader:\n",
    "    print(\"src (input IDs): \\n\", src)\n",
    "    print(\"mask (attention mask): \\n\", mask)\n",
    "    print(\"labels: \\n\", labels)\n",
    "    break  # Print only the first batch for brevity\n"
   ]
  },
  {
   "cell_type": "code",
   "execution_count": 417,
   "metadata": {},
   "outputs": [],
   "source": [
    "from torch.nn.utils.rnn import pad_sequence\n",
    "from random import randint\n",
    "\n",
    "device = torch.device(\"cuda\" if torch.cuda.is_available() else \"cpu\")\n",
    "bos_idx, eos_idx, pad_idx = 1, 2, 0\n",
    "vocab_size, src_len = 100, 16\n",
    "\n",
    "data_loader =DataLoader( \n",
    "    dataset=[torch.randint(3, vocab_size, (randint(src_len//2, src_len),)) for _ in range(50000)],\n",
    "    batch_size=128, shuffle=True, drop_last=True,\n",
    "    collate_fn=lambda batch: (\n",
    "        pad_sequence(batch, batch_first=True, padding_value=pad_idx),\n",
    "        pad_sequence(           # flip the sequence and add <START> and <END> tags\n",
    "            [torch.LongTensor([bos_idx] + x.flip(0).tolist() + [eos_idx]) for x in batch],\n",
    "            batch_first=True, padding_value=pad_idx,\n",
    "    )\n",
    "    ),\n",
    ")\n"
   ]
  },
  {
   "cell_type": "code",
   "execution_count": 419,
   "metadata": {},
   "outputs": [
    {
     "name": "stdout",
     "output_type": "stream",
     "text": [
      "mask (attention mask): \n",
      " tensor([[ 1,  6, 48,  ...,  0,  0,  0],\n",
      "        [ 1, 31, 70,  ...,  0,  0,  0],\n",
      "        [ 1, 16, 93,  ..., 79, 90,  2],\n",
      "        ...,\n",
      "        [ 1, 90, 58,  ..., 50, 14,  2],\n",
      "        [ 1, 47, 52,  ...,  2,  0,  0],\n",
      "        [ 1, 44, 51,  ...,  0,  0,  0]])\n"
     ]
    }
   ],
   "source": [
    "for src, mask in data_loader:\n",
    "    #print(\"src (input IDs): \\n\", src)\n",
    "    print(\"mask (attention mask): \\n\", mask)\n",
    "    break  # Print only the first batch for brevity"
   ]
  },
  {
   "cell_type": "code",
   "execution_count": 279,
   "metadata": {},
   "outputs": [
    {
     "data": {
      "text/plain": [
       "tensor([[1, 2, 0],\n",
       "        [1, 2, 3]])"
      ]
     },
     "execution_count": 279,
     "metadata": {},
     "output_type": "execute_result"
    }
   ],
   "source": [
    "from torch.nn.utils.rnn import pad_sequence\n",
    "batch=[\n",
    "    torch.tensor([1,2]),\n",
    "    torch.tensor([1,2,3])\n",
    "]\n",
    "pad_sequence(batch,batch_first=True,padding_value=0)"
   ]
  },
  {
   "cell_type": "code",
   "execution_count": 281,
   "metadata": {},
   "outputs": [
    {
     "name": "stderr",
     "output_type": "stream",
     "text": [
      "/opt/anaconda3/envs/myenv/lib/python3.11/site-packages/torch/nn/modules/transformer.py:286: UserWarning: enable_nested_tensor is True, but self.use_nested_tensor is False because encoder_layer.self_attn.batch_first was not True(use batch_first for better inference performance)\n",
      "  warnings.warn(f\"enable_nested_tensor is True, but self.use_nested_tensor is False because {why_not_sparsity_fast_path}\")\n"
     ]
    }
   ],
   "source": [
    "import torch\n",
    "import torch.nn as nn\n",
    "\n",
    "# Configuration\n",
    "batch_size = 2\n",
    "sequence_length = 5\n",
    "embedding_dim = 10\n",
    "n_heads = 2\n",
    "num_encoder_layers = 1\n",
    "vocab_size = 100\n",
    "\n",
    "# Transformer Encoder Setup\n",
    "class TransformerEncoder(nn.Module):\n",
    "    def __init__(self):\n",
    "        super().__init__()\n",
    "        self.embedding = nn.Embedding(vocab_size, embedding_dim)\n",
    "        encoder_layers = nn.TransformerEncoderLayer(embedding_dim, n_heads)\n",
    "        self.transformer_encoder = nn.TransformerEncoder(encoder_layers, num_encoder_layers)\n",
    "\n",
    "    def forward(self, src, src_key_padding_mask):\n",
    "        embedded = self.embedding(src)\n",
    "        output = self.transformer_encoder(embedded, src_key_padding_mask=src_key_padding_mask)\n",
    "        return output\n",
    "\n",
    "model = TransformerEncoder()\n",
    "\n",
    "# Example input data (token IDs)\n",
    "src = torch.tensor([\n",
    "    [1, 2, 3, 0, 0],  # First sequence with padding\n",
    "    [4, 5, 6, 7, 8]   # Second sequence without padding\n",
    "])\n",
    "\n",
    "# Padding mask\n",
    "src_key_padding_mask = torch.tensor([\n",
    "    [False, False, False, True, True],  # True where the input is padding\n",
    "    [False, False, False, False, False] # All False for no padding\n",
    "])\n",
    "\n",
    "# Embedding the input (normally part of the model's forward pass)\n",
    "embedded_src = model.embedding(src)\n"
   ]
  },
  {
   "cell_type": "code",
   "execution_count": 285,
   "metadata": {},
   "outputs": [
    {
     "data": {
      "text/plain": [
       "(torch.Size([2, 5]), torch.Size([2, 5, 10]))"
      ]
     },
     "execution_count": 285,
     "metadata": {},
     "output_type": "execute_result"
    }
   ],
   "source": [
    "src.shape,embedded_src.shape"
   ]
  },
  {
   "cell_type": "code",
   "execution_count": 290,
   "metadata": {},
   "outputs": [
    {
     "data": {
      "text/plain": [
       "tensor([[-0.4752,  0.1219, -0.1954, -0.5977,  0.8593,  0.5447,  0.5398,  0.4316,\n",
       "         -2.6407,  0.4509],\n",
       "        [ 0.7756, -0.2005,  0.9053,  0.7166, -0.5117, -0.8722,  1.4849,  0.3407,\n",
       "         -0.7036,  0.6714],\n",
       "        [-0.2819, -0.1074, -0.5245,  1.1500,  0.1554, -1.9009, -1.0108,  0.0889,\n",
       "          1.0367,  0.4605],\n",
       "        [ 0.2785, -1.8317, -1.5157, -0.3629, -1.1277,  0.6294, -0.2338,  0.2307,\n",
       "         -0.0599,  0.4163],\n",
       "        [ 0.2785, -1.8317, -1.5157, -0.3629, -1.1277,  0.6294, -0.2338,  0.2307,\n",
       "         -0.0599,  0.4163]], grad_fn=<SelectBackward0>)"
      ]
     },
     "execution_count": 290,
     "metadata": {},
     "output_type": "execute_result"
    }
   ],
   "source": [
    "embedded_src[0]"
   ]
  },
  {
   "cell_type": "markdown",
   "metadata": {},
   "source": [
    "##STEPS\n",
    "\n",
    "1.Prepare data for model training\n",
    "\n",
    "2.create character tokenizer\n",
    "\n",
    "3.build Encoder model: maybe write different init_weights function and different PositionalEncoding function\n",
    "\n",
    "4.train model: precision/recall/AUC for multiclass???\n",
    "\n",
    "5.write hyperparameter tuning script\n",
    "\n",
    "6.test model\n",
    "\n",
    "7.write ddp.py scirpt or even fsdp.py script\n",
    "\n",
    "8.add unit tests (for which parts)????\n"
   ]
  },
  {
   "cell_type": "code",
   "execution_count": null,
   "metadata": {},
   "outputs": [],
   "source": [
    "tokenizer = CharacterTokenizer()  # Load or initialize your tokenizer\n",
    "\n",
    "model = load_model(model_path)"
   ]
  }
 ],
 "metadata": {
  "kernelspec": {
   "display_name": "myenv",
   "language": "python",
   "name": "python3"
  },
  "language_info": {
   "codemirror_mode": {
    "name": "ipython",
    "version": 3
   },
   "file_extension": ".py",
   "mimetype": "text/x-python",
   "name": "python",
   "nbconvert_exporter": "python",
   "pygments_lexer": "ipython3",
   "version": "3.11.8"
  }
 },
 "nbformat": 4,
 "nbformat_minor": 2
}
